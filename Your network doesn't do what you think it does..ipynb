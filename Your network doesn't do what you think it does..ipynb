{
 "cells": [
  {
   "cell_type": "code",
   "execution_count": 1,
   "id": "ef0e85cd",
   "metadata": {},
   "outputs": [],
   "source": [
    "from keras.datasets import mnist\n",
    "from json import load\n",
    "import pandas as pd\n",
    "import numpy as np\n",
    "import keras.backend as K\n",
    "import tensorflow as tf\n",
    "import math\n",
    "\n",
    "from tensorflow.keras import regularizers\n",
    "from tensorflow.keras.layers import Input, Dense, Layer, Lambda, Multiply\n",
    "from tensorflow.keras.models import Model, load_model\n",
    "\n",
    "import matplotlib.pyplot as plt\n",
    "\n",
    "(x_train, y_train), (x_test, y_test) = mnist.load_data()"
   ]
  },
  {
   "cell_type": "code",
   "execution_count": 2,
   "id": "9247433c",
   "metadata": {},
   "outputs": [],
   "source": [
    "from keras.initializers import *\n",
    "import os\n"
   ]
  },
  {
   "cell_type": "code",
   "execution_count": 3,
   "id": "bc194509",
   "metadata": {},
   "outputs": [],
   "source": [
    "(x_train, y_train), (x_test, y_test) = mnist.load_data()\n",
    "img_rows, img_cols = 28, 28\n",
    "x_train = x_train.reshape(x_train.shape[0], img_rows, img_cols, 1)\n",
    "x_test = x_test.reshape(x_test.shape[0], img_rows, img_cols, 1)\n",
    "\n",
    "x_train = x_train.astype(float)/255\n",
    "x_test = x_test.astype(float)/255\n"
   ]
  },
  {
   "cell_type": "code",
   "execution_count": 4,
   "id": "f4c3ee3e",
   "metadata": {},
   "outputs": [],
   "source": [
    "from keras.utils.np_utils import to_categorical\n",
    "y_train = to_categorical(y_train)\n",
    "y_test = to_categorical(y_test)"
   ]
  },
  {
   "cell_type": "markdown",
   "id": "e3eb50db",
   "metadata": {},
   "source": [
    "### Basic Convolutional Autoencoder with a middle encoding layer with 25 elements\n",
    "\n",
    "I've found that running images through an autoencoder and then doing the final prediction on the encoding layer leads to better generalizability. However, the network doesn't have much thought into it, because I'm not trying to win any competitions, but rather trying to illustrate a point."
   ]
  },
  {
   "cell_type": "code",
   "execution_count": 5,
   "id": "5574872c",
   "metadata": {},
   "outputs": [
    {
     "name": "stderr",
     "output_type": "stream",
     "text": [
      "2021-11-27 12:53:28.917517: I tensorflow/core/common_runtime/pluggable_device/pluggable_device_factory.cc:305] Could not identify NUMA node of platform GPU ID 0, defaulting to 0. Your kernel may not have been built with NUMA support.\n",
      "2021-11-27 12:53:28.917653: I tensorflow/core/common_runtime/pluggable_device/pluggable_device_factory.cc:271] Created TensorFlow device (/job:localhost/replica:0/task:0/device:GPU:0 with 0 MB memory) -> physical PluggableDevice (device: 0, name: METAL, pci bus id: <undefined>)\n"
     ]
    },
    {
     "name": "stdout",
     "output_type": "stream",
     "text": [
      "Metal device set to: Apple M1 Pro\n",
      "Model: \"model\"\n",
      "_________________________________________________________________\n",
      "Layer (type)                 Output Shape              Param #   \n",
      "=================================================================\n",
      "input_1 (InputLayer)         [(None, 28, 28, 1)]       0         \n",
      "_________________________________________________________________\n",
      "conv2d (Conv2D)              (None, 26, 26, 32)        320       \n",
      "_________________________________________________________________\n",
      "max_pooling2d (MaxPooling2D) (None, 13, 13, 32)        0         \n",
      "_________________________________________________________________\n",
      "conv2d_1 (Conv2D)            (None, 11, 11, 64)        18496     \n",
      "_________________________________________________________________\n",
      "max_pooling2d_1 (MaxPooling2 (None, 5, 5, 64)          0         \n",
      "_________________________________________________________________\n",
      "conv2d_2 (Conv2D)            (None, 3, 3, 64)          36928     \n",
      "_________________________________________________________________\n",
      "flatten (Flatten)            (None, 576)               0         \n",
      "_________________________________________________________________\n",
      "dense (Dense)                (None, 49)                28273     \n",
      "_________________________________________________________________\n",
      "dense_1 (Dense)              (None, 25)                1250      \n",
      "_________________________________________________________________\n",
      "dense_2 (Dense)              (None, 49)                1274      \n",
      "_________________________________________________________________\n",
      "reshape (Reshape)            (None, 7, 7, 1)           0         \n",
      "_________________________________________________________________\n",
      "conv2d_transpose (Conv2DTran (None, 14, 14, 64)        640       \n",
      "_________________________________________________________________\n",
      "batch_normalization (BatchNo (None, 14, 14, 64)        256       \n",
      "_________________________________________________________________\n",
      "conv2d_transpose_1 (Conv2DTr (None, 28, 28, 64)        36928     \n",
      "_________________________________________________________________\n",
      "batch_normalization_1 (Batch (None, 28, 28, 64)        256       \n",
      "_________________________________________________________________\n",
      "conv2d_transpose_2 (Conv2DTr (None, 28, 28, 32)        18464     \n",
      "_________________________________________________________________\n",
      "conv2d_3 (Conv2D)            (None, 28, 28, 1)         289       \n",
      "=================================================================\n",
      "Total params: 143,374\n",
      "Trainable params: 143,118\n",
      "Non-trainable params: 256\n",
      "_________________________________________________________________\n"
     ]
    },
    {
     "name": "stderr",
     "output_type": "stream",
     "text": [
      "2021-11-27 12:53:29.305762: I tensorflow/compiler/mlir/mlir_graph_optimization_pass.cc:185] None of the MLIR Optimization Passes are enabled (registered 2)\n",
      "2021-11-27 12:53:29.306056: W tensorflow/core/platform/profile_utils/cpu_utils.cc:128] Failed to get CPU frequency: 0 Hz\n"
     ]
    },
    {
     "name": "stdout",
     "output_type": "stream",
     "text": [
      "Epoch 1/5\n"
     ]
    },
    {
     "name": "stderr",
     "output_type": "stream",
     "text": [
      "2021-11-27 12:53:29.666429: I tensorflow/core/grappler/optimizers/custom_graph_optimizer_registry.cc:112] Plugin optimizer for device_type GPU is enabled.\n"
     ]
    },
    {
     "name": "stdout",
     "output_type": "stream",
     "text": [
      "1874/1875 [============================>.] - ETA: 0s - loss: 0.0680"
     ]
    },
    {
     "name": "stderr",
     "output_type": "stream",
     "text": [
      "2021-11-27 12:53:53.621380: I tensorflow/core/grappler/optimizers/custom_graph_optimizer_registry.cc:112] Plugin optimizer for device_type GPU is enabled.\n"
     ]
    },
    {
     "name": "stdout",
     "output_type": "stream",
     "text": [
      "1875/1875 [==============================] - 27s 14ms/step - loss: 0.0680 - val_loss: 0.0678\n",
      "Epoch 2/5\n",
      "1875/1875 [==============================] - 25s 13ms/step - loss: 0.0674 - val_loss: 0.0678\n",
      "Epoch 3/5\n",
      "1875/1875 [==============================] - 26s 14ms/step - loss: 0.0674 - val_loss: 0.0677\n",
      "Epoch 4/5\n",
      "1875/1875 [==============================] - 25s 13ms/step - loss: 0.0674 - val_loss: 0.0675\n",
      "Epoch 5/5\n",
      "1875/1875 [==============================] - 25s 13ms/step - loss: 0.0674 - val_loss: 0.0675\n"
     ]
    },
    {
     "data": {
      "text/plain": [
       "<keras.callbacks.History at 0x14fa40a00>"
      ]
     },
     "execution_count": 5,
     "metadata": {},
     "output_type": "execute_result"
    }
   ],
   "source": [
    "from tensorflow.keras.layers import Dropout, Flatten, Reshape, Conv2D, MaxPool2D, BatchNormalization, Dense, Conv2DTranspose\n",
    "\n",
    "\n",
    "input = Input(shape=(28, 28, 1))\n",
    "\n",
    "# Encoder\n",
    "e = Conv2D(32, (3, 3), activation='sigmoid')(input)\n",
    "e = MaxPool2D((2, 2))(e)\n",
    "e = Conv2D(64, (3, 3), activation='sigmoid')(e)\n",
    "e = MaxPool2D((2, 2))(e)\n",
    "e = Conv2D(64, (3, 3), activation='sigmoid')(e)\n",
    "l = Flatten()(e)\n",
    "l = Dense(49, activation='sigmoid')(l)\n",
    "l = Dense(25, activation='sigmoid')(l)\n",
    "\n",
    "#DECODER\n",
    "d = Dense(49, activation='sigmoid')(l)\n",
    "d = Reshape((7,7,1))(d)\n",
    "d = Conv2DTranspose(64,(3, 3), strides=2, activation='sigmoid', padding='same')(d)\n",
    "d = BatchNormalization()(d)\n",
    "d = Conv2DTranspose(64,(3, 3), strides=2, activation='sigmoid', padding='same')(d)\n",
    "d = BatchNormalization()(d)\n",
    "d = Conv2DTranspose(32,(3, 3), activation='sigmoid', padding='same')(d)\n",
    "decoded = Conv2D(1, (3, 3), activation='sigmoid', padding='same')(d)\n",
    "\n",
    "\n",
    "# Autoencoder\n",
    "autoencoder = Model(input, decoded)\n",
    "autoencoder.compile(optimizer=\"rmsprop\", loss=\"mse\")\n",
    "autoencoder.summary()\n",
    "\n",
    "autoencoder.fit(\n",
    "    x=x_train,\n",
    "    y=x_train,\n",
    "    epochs=5,\n",
    "    batch_size=32,\n",
    "    shuffle=True,\n",
    "    validation_data=(x_test, x_test),\n",
    ")\n"
   ]
  },
  {
   "cell_type": "code",
   "execution_count": 6,
   "id": "ada9d7bf",
   "metadata": {},
   "outputs": [
    {
     "name": "stdout",
     "output_type": "stream",
     "text": [
      "Epoch 1/10\n"
     ]
    },
    {
     "name": "stderr",
     "output_type": "stream",
     "text": [
      "2021-11-27 12:55:37.513704: I tensorflow/core/grappler/optimizers/custom_graph_optimizer_registry.cc:112] Plugin optimizer for device_type GPU is enabled.\n"
     ]
    },
    {
     "name": "stdout",
     "output_type": "stream",
     "text": [
      " 803/3750 [=====>........................] - ETA: 37s - loss: 0.0676"
     ]
    },
    {
     "ename": "KeyboardInterrupt",
     "evalue": "",
     "output_type": "error",
     "traceback": [
      "\u001b[0;31m---------------------------------------------------------------------------\u001b[0m",
      "\u001b[0;31mKeyboardInterrupt\u001b[0m                         Traceback (most recent call last)",
      "\u001b[0;32m/var/folders/b7/hz5qz0l56c1558bmwbgrktt00000gn/T/ipykernel_46767/467787665.py\u001b[0m in \u001b[0;36m<module>\u001b[0;34m\u001b[0m\n\u001b[1;32m      1\u001b[0m \u001b[0;31m# the models have different lines to train, just so I can retrain to see if I can get better performance\u001b[0m\u001b[0;34m\u001b[0m\u001b[0;34m\u001b[0m\u001b[0;34m\u001b[0m\u001b[0m\n\u001b[0;32m----> 2\u001b[0;31m autoencoder.fit(\n\u001b[0m\u001b[1;32m      3\u001b[0m     \u001b[0mx\u001b[0m\u001b[0;34m=\u001b[0m\u001b[0mx_train\u001b[0m\u001b[0;34m,\u001b[0m\u001b[0;34m\u001b[0m\u001b[0;34m\u001b[0m\u001b[0m\n\u001b[1;32m      4\u001b[0m     \u001b[0my\u001b[0m\u001b[0;34m=\u001b[0m\u001b[0mx_train\u001b[0m\u001b[0;34m,\u001b[0m\u001b[0;34m\u001b[0m\u001b[0;34m\u001b[0m\u001b[0m\n\u001b[1;32m      5\u001b[0m     \u001b[0mepochs\u001b[0m\u001b[0;34m=\u001b[0m\u001b[0;36m10\u001b[0m\u001b[0;34m,\u001b[0m\u001b[0;34m\u001b[0m\u001b[0;34m\u001b[0m\u001b[0m\n",
      "\u001b[0;32m~/miniforge3/envs/nn_optimization/lib/python3.8/site-packages/keras/engine/training.py\u001b[0m in \u001b[0;36mfit\u001b[0;34m(self, x, y, batch_size, epochs, verbose, callbacks, validation_split, validation_data, shuffle, class_weight, sample_weight, initial_epoch, steps_per_epoch, validation_steps, validation_batch_size, validation_freq, max_queue_size, workers, use_multiprocessing)\u001b[0m\n\u001b[1;32m   1182\u001b[0m                 _r=1):\n\u001b[1;32m   1183\u001b[0m               \u001b[0mcallbacks\u001b[0m\u001b[0;34m.\u001b[0m\u001b[0mon_train_batch_begin\u001b[0m\u001b[0;34m(\u001b[0m\u001b[0mstep\u001b[0m\u001b[0;34m)\u001b[0m\u001b[0;34m\u001b[0m\u001b[0;34m\u001b[0m\u001b[0m\n\u001b[0;32m-> 1184\u001b[0;31m               \u001b[0mtmp_logs\u001b[0m \u001b[0;34m=\u001b[0m \u001b[0mself\u001b[0m\u001b[0;34m.\u001b[0m\u001b[0mtrain_function\u001b[0m\u001b[0;34m(\u001b[0m\u001b[0miterator\u001b[0m\u001b[0;34m)\u001b[0m\u001b[0;34m\u001b[0m\u001b[0;34m\u001b[0m\u001b[0m\n\u001b[0m\u001b[1;32m   1185\u001b[0m               \u001b[0;32mif\u001b[0m \u001b[0mdata_handler\u001b[0m\u001b[0;34m.\u001b[0m\u001b[0mshould_sync\u001b[0m\u001b[0;34m:\u001b[0m\u001b[0;34m\u001b[0m\u001b[0;34m\u001b[0m\u001b[0m\n\u001b[1;32m   1186\u001b[0m                 \u001b[0mcontext\u001b[0m\u001b[0;34m.\u001b[0m\u001b[0masync_wait\u001b[0m\u001b[0;34m(\u001b[0m\u001b[0;34m)\u001b[0m\u001b[0;34m\u001b[0m\u001b[0;34m\u001b[0m\u001b[0m\n",
      "\u001b[0;32m~/miniforge3/envs/nn_optimization/lib/python3.8/site-packages/tensorflow/python/eager/def_function.py\u001b[0m in \u001b[0;36m__call__\u001b[0;34m(self, *args, **kwds)\u001b[0m\n\u001b[1;32m    883\u001b[0m \u001b[0;34m\u001b[0m\u001b[0m\n\u001b[1;32m    884\u001b[0m       \u001b[0;32mwith\u001b[0m \u001b[0mOptionalXlaContext\u001b[0m\u001b[0;34m(\u001b[0m\u001b[0mself\u001b[0m\u001b[0;34m.\u001b[0m\u001b[0m_jit_compile\u001b[0m\u001b[0;34m)\u001b[0m\u001b[0;34m:\u001b[0m\u001b[0;34m\u001b[0m\u001b[0;34m\u001b[0m\u001b[0m\n\u001b[0;32m--> 885\u001b[0;31m         \u001b[0mresult\u001b[0m \u001b[0;34m=\u001b[0m \u001b[0mself\u001b[0m\u001b[0;34m.\u001b[0m\u001b[0m_call\u001b[0m\u001b[0;34m(\u001b[0m\u001b[0;34m*\u001b[0m\u001b[0margs\u001b[0m\u001b[0;34m,\u001b[0m \u001b[0;34m**\u001b[0m\u001b[0mkwds\u001b[0m\u001b[0;34m)\u001b[0m\u001b[0;34m\u001b[0m\u001b[0;34m\u001b[0m\u001b[0m\n\u001b[0m\u001b[1;32m    886\u001b[0m \u001b[0;34m\u001b[0m\u001b[0m\n\u001b[1;32m    887\u001b[0m       \u001b[0mnew_tracing_count\u001b[0m \u001b[0;34m=\u001b[0m \u001b[0mself\u001b[0m\u001b[0;34m.\u001b[0m\u001b[0mexperimental_get_tracing_count\u001b[0m\u001b[0;34m(\u001b[0m\u001b[0;34m)\u001b[0m\u001b[0;34m\u001b[0m\u001b[0;34m\u001b[0m\u001b[0m\n",
      "\u001b[0;32m~/miniforge3/envs/nn_optimization/lib/python3.8/site-packages/tensorflow/python/eager/def_function.py\u001b[0m in \u001b[0;36m_call\u001b[0;34m(self, *args, **kwds)\u001b[0m\n\u001b[1;32m    915\u001b[0m       \u001b[0;31m# In this case we have created variables on the first call, so we run the\u001b[0m\u001b[0;34m\u001b[0m\u001b[0;34m\u001b[0m\u001b[0;34m\u001b[0m\u001b[0m\n\u001b[1;32m    916\u001b[0m       \u001b[0;31m# defunned version which is guaranteed to never create variables.\u001b[0m\u001b[0;34m\u001b[0m\u001b[0;34m\u001b[0m\u001b[0;34m\u001b[0m\u001b[0m\n\u001b[0;32m--> 917\u001b[0;31m       \u001b[0;32mreturn\u001b[0m \u001b[0mself\u001b[0m\u001b[0;34m.\u001b[0m\u001b[0m_stateless_fn\u001b[0m\u001b[0;34m(\u001b[0m\u001b[0;34m*\u001b[0m\u001b[0margs\u001b[0m\u001b[0;34m,\u001b[0m \u001b[0;34m**\u001b[0m\u001b[0mkwds\u001b[0m\u001b[0;34m)\u001b[0m  \u001b[0;31m# pylint: disable=not-callable\u001b[0m\u001b[0;34m\u001b[0m\u001b[0;34m\u001b[0m\u001b[0m\n\u001b[0m\u001b[1;32m    918\u001b[0m     \u001b[0;32melif\u001b[0m \u001b[0mself\u001b[0m\u001b[0;34m.\u001b[0m\u001b[0m_stateful_fn\u001b[0m \u001b[0;32mis\u001b[0m \u001b[0;32mnot\u001b[0m \u001b[0;32mNone\u001b[0m\u001b[0;34m:\u001b[0m\u001b[0;34m\u001b[0m\u001b[0;34m\u001b[0m\u001b[0m\n\u001b[1;32m    919\u001b[0m       \u001b[0;31m# Release the lock early so that multiple threads can perform the call\u001b[0m\u001b[0;34m\u001b[0m\u001b[0;34m\u001b[0m\u001b[0;34m\u001b[0m\u001b[0m\n",
      "\u001b[0;32m~/miniforge3/envs/nn_optimization/lib/python3.8/site-packages/tensorflow/python/eager/function.py\u001b[0m in \u001b[0;36m__call__\u001b[0;34m(self, *args, **kwargs)\u001b[0m\n\u001b[1;32m   3037\u001b[0m       (graph_function,\n\u001b[1;32m   3038\u001b[0m        filtered_flat_args) = self._maybe_define_function(args, kwargs)\n\u001b[0;32m-> 3039\u001b[0;31m     return graph_function._call_flat(\n\u001b[0m\u001b[1;32m   3040\u001b[0m         filtered_flat_args, captured_inputs=graph_function.captured_inputs)  # pylint: disable=protected-access\n\u001b[1;32m   3041\u001b[0m \u001b[0;34m\u001b[0m\u001b[0m\n",
      "\u001b[0;32m~/miniforge3/envs/nn_optimization/lib/python3.8/site-packages/tensorflow/python/eager/function.py\u001b[0m in \u001b[0;36m_call_flat\u001b[0;34m(self, args, captured_inputs, cancellation_manager)\u001b[0m\n\u001b[1;32m   1961\u001b[0m         and executing_eagerly):\n\u001b[1;32m   1962\u001b[0m       \u001b[0;31m# No tape is watching; skip to running the function.\u001b[0m\u001b[0;34m\u001b[0m\u001b[0;34m\u001b[0m\u001b[0;34m\u001b[0m\u001b[0m\n\u001b[0;32m-> 1963\u001b[0;31m       return self._build_call_outputs(self._inference_function.call(\n\u001b[0m\u001b[1;32m   1964\u001b[0m           ctx, args, cancellation_manager=cancellation_manager))\n\u001b[1;32m   1965\u001b[0m     forward_backward = self._select_forward_and_backward_functions(\n",
      "\u001b[0;32m~/miniforge3/envs/nn_optimization/lib/python3.8/site-packages/tensorflow/python/eager/function.py\u001b[0m in \u001b[0;36mcall\u001b[0;34m(self, ctx, args, cancellation_manager)\u001b[0m\n\u001b[1;32m    589\u001b[0m       \u001b[0;32mwith\u001b[0m \u001b[0m_InterpolateFunctionError\u001b[0m\u001b[0;34m(\u001b[0m\u001b[0mself\u001b[0m\u001b[0;34m)\u001b[0m\u001b[0;34m:\u001b[0m\u001b[0;34m\u001b[0m\u001b[0;34m\u001b[0m\u001b[0m\n\u001b[1;32m    590\u001b[0m         \u001b[0;32mif\u001b[0m \u001b[0mcancellation_manager\u001b[0m \u001b[0;32mis\u001b[0m \u001b[0;32mNone\u001b[0m\u001b[0;34m:\u001b[0m\u001b[0;34m\u001b[0m\u001b[0;34m\u001b[0m\u001b[0m\n\u001b[0;32m--> 591\u001b[0;31m           outputs = execute.execute(\n\u001b[0m\u001b[1;32m    592\u001b[0m               \u001b[0mstr\u001b[0m\u001b[0;34m(\u001b[0m\u001b[0mself\u001b[0m\u001b[0;34m.\u001b[0m\u001b[0msignature\u001b[0m\u001b[0;34m.\u001b[0m\u001b[0mname\u001b[0m\u001b[0;34m)\u001b[0m\u001b[0;34m,\u001b[0m\u001b[0;34m\u001b[0m\u001b[0;34m\u001b[0m\u001b[0m\n\u001b[1;32m    593\u001b[0m               \u001b[0mnum_outputs\u001b[0m\u001b[0;34m=\u001b[0m\u001b[0mself\u001b[0m\u001b[0;34m.\u001b[0m\u001b[0m_num_outputs\u001b[0m\u001b[0;34m,\u001b[0m\u001b[0;34m\u001b[0m\u001b[0;34m\u001b[0m\u001b[0m\n",
      "\u001b[0;32m~/miniforge3/envs/nn_optimization/lib/python3.8/site-packages/tensorflow/python/eager/execute.py\u001b[0m in \u001b[0;36mquick_execute\u001b[0;34m(op_name, num_outputs, inputs, attrs, ctx, name)\u001b[0m\n\u001b[1;32m     57\u001b[0m   \u001b[0;32mtry\u001b[0m\u001b[0;34m:\u001b[0m\u001b[0;34m\u001b[0m\u001b[0;34m\u001b[0m\u001b[0m\n\u001b[1;32m     58\u001b[0m     \u001b[0mctx\u001b[0m\u001b[0;34m.\u001b[0m\u001b[0mensure_initialized\u001b[0m\u001b[0;34m(\u001b[0m\u001b[0;34m)\u001b[0m\u001b[0;34m\u001b[0m\u001b[0;34m\u001b[0m\u001b[0m\n\u001b[0;32m---> 59\u001b[0;31m     tensors = pywrap_tfe.TFE_Py_Execute(ctx._handle, device_name, op_name,\n\u001b[0m\u001b[1;32m     60\u001b[0m                                         inputs, attrs, num_outputs)\n\u001b[1;32m     61\u001b[0m   \u001b[0;32mexcept\u001b[0m \u001b[0mcore\u001b[0m\u001b[0;34m.\u001b[0m\u001b[0m_NotOkStatusException\u001b[0m \u001b[0;32mas\u001b[0m \u001b[0me\u001b[0m\u001b[0;34m:\u001b[0m\u001b[0;34m\u001b[0m\u001b[0;34m\u001b[0m\u001b[0m\n",
      "\u001b[0;31mKeyboardInterrupt\u001b[0m: "
     ]
    }
   ],
   "source": [
    "# the models have different lines to train, just so I can retrain to see if I can get better performance\n",
    "autoencoder.fit(\n",
    "    x=x_train,\n",
    "    y=x_train,\n",
    "    epochs=10,\n",
    "    batch_size=16,\n",
    "    shuffle=True,\n",
    "    validation_data=(x_test, x_test),\n",
    ")"
   ]
  },
  {
   "cell_type": "code",
   "execution_count": 9,
   "id": "39764cf5",
   "metadata": {},
   "outputs": [
    {
     "name": "stdout",
     "output_type": "stream",
     "text": [
      "(2, 25)\n",
      "Model: \"model_6\"\n",
      "_________________________________________________________________\n",
      "Layer (type)                 Output Shape              Param #   \n",
      "=================================================================\n",
      "input_4 (InputLayer)         [(None, 25)]              0         \n",
      "_________________________________________________________________\n",
      "dense_2 (Dense)              (None, 49)                1274      \n",
      "_________________________________________________________________\n",
      "reshape (Reshape)            (None, 7, 7, 1)           0         \n",
      "_________________________________________________________________\n",
      "conv2d_transpose (Conv2DTran (None, 14, 14, 64)        640       \n",
      "_________________________________________________________________\n",
      "batch_normalization (BatchNo (None, 14, 14, 64)        256       \n",
      "_________________________________________________________________\n",
      "conv2d_transpose_1 (Conv2DTr (None, 28, 28, 64)        36928     \n",
      "_________________________________________________________________\n",
      "batch_normalization_1 (Batch (None, 28, 28, 64)        256       \n",
      "_________________________________________________________________\n",
      "conv2d_transpose_2 (Conv2DTr (None, 28, 28, 32)        18464     \n",
      "_________________________________________________________________\n",
      "conv2d_3 (Conv2D)            (None, 28, 28, 1)         289       \n",
      "=================================================================\n",
      "Total params: 58,107\n",
      "Trainable params: 57,851\n",
      "Non-trainable params: 256\n",
      "_________________________________________________________________\n",
      "WARNING:tensorflow:5 out of the last 5 calls to <function Model.make_predict_function.<locals>.predict_function at 0x169809a60> triggered tf.function retracing. Tracing is expensive and the excessive number of tracings could be due to (1) creating @tf.function repeatedly in a loop, (2) passing tensors with different shapes, (3) passing Python objects instead of tensors. For (1), please define your @tf.function outside of the loop. For (2), @tf.function has experimental_relax_shapes=True option that relaxes argument shapes that can avoid unnecessary retracing. For (3), please refer to https://www.tensorflow.org/guide/function#controlling_retracing and https://www.tensorflow.org/api_docs/python/tf/function for  more details.\n",
      "(2, 28, 28, 1)\n",
      "(2, 25)\n",
      "(2, 28, 28, 1)\n"
     ]
    },
    {
     "name": "stderr",
     "output_type": "stream",
     "text": [
      "2021-11-27 12:56:12.299398: I tensorflow/core/grappler/optimizers/custom_graph_optimizer_registry.cc:112] Plugin optimizer for device_type GPU is enabled.\n",
      "2021-11-27 12:56:12.390254: I tensorflow/core/grappler/optimizers/custom_graph_optimizer_registry.cc:112] Plugin optimizer for device_type GPU is enabled.\n"
     ]
    },
    {
     "data": {
      "text/plain": [
       "<matplotlib.image.AxesImage at 0x1698dd160>"
      ]
     },
     "execution_count": 9,
     "metadata": {},
     "output_type": "execute_result"
    },
    {
     "data": {
      "image/png": "[encoded data removed]",
      "text/plain": [
       "<Figure size 432x288 with 1 Axes>"
      ]
     },
     "metadata": {
      "needs_background": "light"
     },
     "output_type": "display_data"
    }
   ],
   "source": [
    "embedding = Model(input, l)\n",
    "output = embedding.predict(x_train[0:2])\n",
    "print(output.shape)\n",
    "\n",
    "def generate_decoder(autoencoder, layers, encoding_size = 25):\n",
    "    decoded_output = Input(shape=(encoding_size,))\n",
    "    deco = autoencoder.layers[-1 * layers](decoded_output)\n",
    "    for i in range(layers - 1, 0, -1):\n",
    "        deco = autoencoder.layers[-1 * i](deco)\n",
    "    decoding = Model(decoded_output, deco)\n",
    "    decoding.summary()\n",
    "    return(decoding)\n",
    "decoder = generate_decoder(autoencoder, 8, 25)\n",
    "reconstruction = decoder.predict(output)\n",
    "print(x_train[0:2].shape)\n",
    "print(output.shape)\n",
    "print(reconstruction.shape)\n",
    "#plt.imshow(x_train[0])\n",
    "\n",
    "plt.imshow(decoder.predict(output)[0])\n",
    "\n"
   ]
  },
  {
   "cell_type": "code",
   "execution_count": 39,
   "id": "199a6e2e",
   "metadata": {},
   "outputs": [
    {
     "name": "stdout",
     "output_type": "stream",
     "text": [
      "Model: \"model_32\"\n",
      "_________________________________________________________________\n",
      "Layer (type)                 Output Shape              Param #   \n",
      "=================================================================\n",
      "input_27 (InputLayer)        [(None, 25)]              0         \n",
      "_________________________________________________________________\n",
      "dense_40 (Dense)             (None, 30)                780       \n",
      "_________________________________________________________________\n",
      "dense_41 (Dense)             (None, 20)                620       \n",
      "_________________________________________________________________\n",
      "dense_42 (Dense)             (None, 10)                210       \n",
      "=================================================================\n",
      "Total params: 1,610\n",
      "Trainable params: 1,610\n",
      "Non-trainable params: 0\n",
      "_________________________________________________________________\n"
     ]
    },
    {
     "name": "stderr",
     "output_type": "stream",
     "text": [
      "2021-11-26 18:38:46.064285: I tensorflow/core/grappler/optimizers/custom_graph_optimizer_registry.cc:112] Plugin optimizer for device_type GPU is enabled.\n"
     ]
    },
    {
     "name": "stdout",
     "output_type": "stream",
     "text": [
      "Epoch 1/50\n",
      "  12/1875 [..............................] - ETA: 18s - loss: 2.3295 - accuracy: 0.0547"
     ]
    },
    {
     "name": "stderr",
     "output_type": "stream",
     "text": [
      "2021-11-26 18:38:50.538834: I tensorflow/core/grappler/optimizers/custom_graph_optimizer_registry.cc:112] Plugin optimizer for device_type GPU is enabled.\n"
     ]
    },
    {
     "name": "stdout",
     "output_type": "stream",
     "text": [
      "1872/1875 [============================>.] - ETA: 0s - loss: 0.7592 - accuracy: 0.7805"
     ]
    },
    {
     "name": "stderr",
     "output_type": "stream",
     "text": [
      "2021-11-26 18:39:07.568750: I tensorflow/core/grappler/optimizers/custom_graph_optimizer_registry.cc:112] Plugin optimizer for device_type GPU is enabled.\n"
     ]
    },
    {
     "name": "stdout",
     "output_type": "stream",
     "text": [
      "1875/1875 [==============================] - 19s 10ms/step - loss: 0.7587 - accuracy: 0.7807 - val_loss: 0.4005 - val_accuracy: 0.8817\n",
      "Epoch 2/50\n",
      "1875/1875 [==============================] - 19s 10ms/step - loss: 0.3705 - accuracy: 0.8874 - val_loss: 0.3386 - val_accuracy: 0.9001\n",
      "Epoch 3/50\n",
      "1875/1875 [==============================] - 19s 10ms/step - loss: 0.3354 - accuracy: 0.8979 - val_loss: 0.3194 - val_accuracy: 0.9051\n",
      "Epoch 4/50\n",
      "1875/1875 [==============================] - 19s 10ms/step - loss: 0.3161 - accuracy: 0.9025 - val_loss: 0.3179 - val_accuracy: 0.9039\n",
      "Epoch 5/50\n",
      "1875/1875 [==============================] - 19s 10ms/step - loss: 0.2996 - accuracy: 0.9078 - val_loss: 0.2845 - val_accuracy: 0.9135\n",
      "Epoch 6/50\n",
      "1875/1875 [==============================] - 20s 10ms/step - loss: 0.2847 - accuracy: 0.9115 - val_loss: 0.2604 - val_accuracy: 0.9195\n",
      "Epoch 7/50\n",
      "1875/1875 [==============================] - 19s 10ms/step - loss: 0.2704 - accuracy: 0.9165 - val_loss: 0.2473 - val_accuracy: 0.9242\n",
      "Epoch 8/50\n",
      "1875/1875 [==============================] - 19s 10ms/step - loss: 0.2564 - accuracy: 0.9194 - val_loss: 0.2437 - val_accuracy: 0.9272\n",
      "Epoch 9/50\n",
      "1875/1875 [==============================] - 19s 10ms/step - loss: 0.2420 - accuracy: 0.9251 - val_loss: 0.2209 - val_accuracy: 0.9315\n",
      "Epoch 10/50\n",
      "1875/1875 [==============================] - 19s 10ms/step - loss: 0.2297 - accuracy: 0.9296 - val_loss: 0.2239 - val_accuracy: 0.9331\n",
      "Epoch 11/50\n",
      "1875/1875 [==============================] - 19s 10ms/step - loss: 0.2189 - accuracy: 0.9327 - val_loss: 0.2050 - val_accuracy: 0.9393\n",
      "Epoch 12/50\n",
      "1875/1875 [==============================] - 19s 10ms/step - loss: 0.2094 - accuracy: 0.9356 - val_loss: 0.1968 - val_accuracy: 0.9383\n",
      "Epoch 13/50\n",
      "1875/1875 [==============================] - 19s 10ms/step - loss: 0.2005 - accuracy: 0.9377 - val_loss: 0.1842 - val_accuracy: 0.9446\n",
      "Epoch 14/50\n",
      "1875/1875 [==============================] - 19s 10ms/step - loss: 0.1939 - accuracy: 0.9404 - val_loss: 0.1821 - val_accuracy: 0.9445\n",
      "Epoch 15/50\n",
      "1875/1875 [==============================] - 19s 10ms/step - loss: 0.1870 - accuracy: 0.9429 - val_loss: 0.1779 - val_accuracy: 0.9465\n",
      "Epoch 16/50\n",
      "1875/1875 [==============================] - 19s 10ms/step - loss: 0.1815 - accuracy: 0.9446 - val_loss: 0.1688 - val_accuracy: 0.9505\n",
      "Epoch 17/50\n",
      "1875/1875 [==============================] - 19s 10ms/step - loss: 0.1759 - accuracy: 0.9462 - val_loss: 0.1676 - val_accuracy: 0.9514\n",
      "Epoch 18/50\n",
      "1875/1875 [==============================] - 19s 10ms/step - loss: 0.1716 - accuracy: 0.9480 - val_loss: 0.1648 - val_accuracy: 0.9493\n",
      "Epoch 19/50\n",
      "1875/1875 [==============================] - 19s 10ms/step - loss: 0.1675 - accuracy: 0.9491 - val_loss: 0.1591 - val_accuracy: 0.9520\n",
      "Epoch 20/50\n",
      "1875/1875 [==============================] - 19s 10ms/step - loss: 0.1632 - accuracy: 0.9505 - val_loss: 0.1572 - val_accuracy: 0.9539\n",
      "Epoch 21/50\n",
      "1875/1875 [==============================] - 19s 10ms/step - loss: 0.1592 - accuracy: 0.9517 - val_loss: 0.1504 - val_accuracy: 0.9537\n",
      "Epoch 22/50\n",
      "1875/1875 [==============================] - 19s 10ms/step - loss: 0.1558 - accuracy: 0.9534 - val_loss: 0.1453 - val_accuracy: 0.9551\n",
      "Epoch 23/50\n",
      "1875/1875 [==============================] - 19s 10ms/step - loss: 0.1521 - accuracy: 0.9540 - val_loss: 0.1392 - val_accuracy: 0.9571\n",
      "Epoch 24/50\n",
      "1875/1875 [==============================] - 19s 10ms/step - loss: 0.1497 - accuracy: 0.9545 - val_loss: 0.1442 - val_accuracy: 0.9558\n",
      "Epoch 25/50\n",
      "1875/1875 [==============================] - 20s 10ms/step - loss: 0.1456 - accuracy: 0.9560 - val_loss: 0.1553 - val_accuracy: 0.9520\n",
      "Epoch 26/50\n",
      "1875/1875 [==============================] - 20s 11ms/step - loss: 0.1439 - accuracy: 0.9567 - val_loss: 0.1389 - val_accuracy: 0.9572\n",
      "Epoch 27/50\n",
      "1875/1875 [==============================] - 20s 10ms/step - loss: 0.1405 - accuracy: 0.9575 - val_loss: 0.1321 - val_accuracy: 0.9595\n",
      "Epoch 28/50\n",
      "1875/1875 [==============================] - 20s 10ms/step - loss: 0.1378 - accuracy: 0.9581 - val_loss: 0.1387 - val_accuracy: 0.9590\n",
      "Epoch 29/50\n",
      "1875/1875 [==============================] - 20s 10ms/step - loss: 0.1349 - accuracy: 0.9596 - val_loss: 0.1260 - val_accuracy: 0.9620\n",
      "Epoch 30/50\n",
      "1875/1875 [==============================] - 20s 10ms/step - loss: 0.1332 - accuracy: 0.9602 - val_loss: 0.1308 - val_accuracy: 0.9613\n",
      "Epoch 31/50\n",
      "1875/1875 [==============================] - 20s 10ms/step - loss: 0.1310 - accuracy: 0.9605 - val_loss: 0.1293 - val_accuracy: 0.9615\n",
      "Epoch 32/50\n",
      "1875/1875 [==============================] - 20s 10ms/step - loss: 0.1293 - accuracy: 0.9613 - val_loss: 0.1297 - val_accuracy: 0.9615\n",
      "Epoch 33/50\n",
      "1875/1875 [==============================] - 20s 10ms/step - loss: 0.1277 - accuracy: 0.9620 - val_loss: 0.1195 - val_accuracy: 0.9647\n",
      "Epoch 34/50\n",
      "1875/1875 [==============================] - 20s 10ms/step - loss: 0.1269 - accuracy: 0.9620 - val_loss: 0.1184 - val_accuracy: 0.9640\n",
      "Epoch 35/50\n",
      "1875/1875 [==============================] - 20s 10ms/step - loss: 0.1245 - accuracy: 0.9620 - val_loss: 0.1191 - val_accuracy: 0.9650\n",
      "Epoch 36/50\n",
      "1875/1875 [==============================] - 20s 10ms/step - loss: 0.1228 - accuracy: 0.9632 - val_loss: 0.1157 - val_accuracy: 0.9659\n",
      "Epoch 37/50\n",
      "1875/1875 [==============================] - 19s 10ms/step - loss: 0.1217 - accuracy: 0.9632 - val_loss: 0.1230 - val_accuracy: 0.9642\n",
      "Epoch 38/50\n",
      "1875/1875 [==============================] - 19s 10ms/step - loss: 0.1206 - accuracy: 0.9643 - val_loss: 0.1170 - val_accuracy: 0.9660\n",
      "Epoch 39/50\n",
      "1875/1875 [==============================] - 20s 10ms/step - loss: 0.1190 - accuracy: 0.9643 - val_loss: 0.1165 - val_accuracy: 0.9656\n",
      "Epoch 40/50\n",
      "1875/1875 [==============================] - 19s 10ms/step - loss: 0.1175 - accuracy: 0.9637 - val_loss: 0.1249 - val_accuracy: 0.9636\n",
      "Epoch 41/50\n",
      "1875/1875 [==============================] - 20s 10ms/step - loss: 0.1165 - accuracy: 0.9649 - val_loss: 0.1105 - val_accuracy: 0.9673\n",
      "Epoch 42/50\n",
      "1875/1875 [==============================] - 20s 10ms/step - loss: 0.1158 - accuracy: 0.9649 - val_loss: 0.1126 - val_accuracy: 0.9680\n",
      "Epoch 43/50\n",
      "1875/1875 [==============================] - 20s 10ms/step - loss: 0.1147 - accuracy: 0.9656 - val_loss: 0.1155 - val_accuracy: 0.9662\n",
      "Epoch 44/50\n",
      "1875/1875 [==============================] - 20s 10ms/step - loss: 0.1132 - accuracy: 0.9664 - val_loss: 0.1142 - val_accuracy: 0.9655\n",
      "Epoch 45/50\n",
      "1875/1875 [==============================] - 20s 11ms/step - loss: 0.1127 - accuracy: 0.9656 - val_loss: 0.1107 - val_accuracy: 0.9681\n",
      "Epoch 46/50\n",
      "1875/1875 [==============================] - 20s 10ms/step - loss: 0.1126 - accuracy: 0.9670 - val_loss: 0.1066 - val_accuracy: 0.9684\n",
      "Epoch 47/50\n",
      "1875/1875 [==============================] - 20s 10ms/step - loss: 0.1111 - accuracy: 0.9665 - val_loss: 0.1191 - val_accuracy: 0.9623\n",
      "Epoch 48/50\n",
      "1875/1875 [==============================] - 20s 10ms/step - loss: 0.1102 - accuracy: 0.9668 - val_loss: 0.1133 - val_accuracy: 0.9673\n",
      "Epoch 49/50\n",
      "1875/1875 [==============================] - 20s 10ms/step - loss: 0.1100 - accuracy: 0.9667 - val_loss: 0.1083 - val_accuracy: 0.9692\n",
      "Epoch 50/50\n",
      "1875/1875 [==============================] - 20s 10ms/step - loss: 0.1093 - accuracy: 0.9673 - val_loss: 0.1076 - val_accuracy: 0.9679\n"
     ]
    },
    {
     "data": {
      "text/plain": [
       "<keras.callbacks.History at 0x16a143550>"
      ]
     },
     "execution_count": 39,
     "metadata": {},
     "output_type": "execute_result"
    }
   ],
   "source": [
    "epochs = 50\n",
    "batch_size = 32\n",
    "\n",
    "input_layer = Input(shape=(25,))\n",
    "x = Dense(30, activation=\"elu\")(input_layer)\n",
    "x = Dense(20, activation=\"elu\")(x)\n",
    "output_layer = Dense(10, activation='softmax')(x)\n",
    "prediction_model = Model(input_layer, output_layer)\n",
    "prediction_model.compile(loss = 'categorical_crossentropy', optimizer='rmsprop', metrics=['accuracy'])\n",
    "prediction_model.summary()\n",
    "\n",
    "x_train_embedding = embedding.predict(x_train)\n",
    "x_test_embedding = embedding.predict(x_test)\n",
    "\n",
    "prediction_model.fit(x_train_embedding, y_train, batch_size = batch_size, epochs = epochs, \n",
    "          validation_data = (x_test_embedding, y_test))"
   ]
  },
  {
   "cell_type": "code",
   "execution_count": 40,
   "id": "90c702c5",
   "metadata": {},
   "outputs": [],
   "source": [
    "joint_model_layers = embedding.layers[-1].output\n",
    "jml = prediction_model.layers[-3](joint_model_layers)\n",
    "jml = prediction_model.layers[-2](jml)\n",
    "jml = prediction_model.layers[-1](jml)\n",
    "\n",
    "joint_model = Model(embedding.input, jml)"
   ]
  },
  {
   "cell_type": "code",
   "execution_count": 41,
   "id": "883f592d",
   "metadata": {},
   "outputs": [],
   "source": [
    "class custom_layer(Layer):\n",
    "    def  __init__(self, output_dim, **kwargs):\n",
    "        self.output_dim = output_dim\n",
    "        super(custom_layer,self).__init__(**kwargs)\n",
    "    def build(self,input_shape):\n",
    "        output_shape = self.compute_output_shape(input_shape)\n",
    "        self.W=self.add_weight(name='kernel',\n",
    "                           shape=(1,) + output_shape[1:],\n",
    "                           constraint=tf.keras.constraints.NonNeg(),\n",
    "                           initializer='uniform'                              ,\n",
    "                           trainable=True)\n",
    "        self.built = True\n",
    "  # this self.built is necessary .\n",
    "    def call(self,x):\n",
    "        return x * self.W\n",
    "    def compute_output_shape(self, input_shape):\n",
    "        return(input_shape)"
   ]
  },
  {
   "cell_type": "code",
   "execution_count": 57,
   "id": "0ec4cfd6",
   "metadata": {},
   "outputs": [
    {
     "name": "stdout",
     "output_type": "stream",
     "text": [
      "Model: \"model_36\"\n",
      "_________________________________________________________________\n",
      "Layer (type)                 Output Shape              Param #   \n",
      "=================================================================\n",
      "input_30 (InputLayer)        [(None, 28, 28, 1)]       0         \n",
      "_________________________________________________________________\n",
      "custom_layer_2 (custom_layer (None, 28, 28, 1)         784       \n",
      "_________________________________________________________________\n",
      "model_33 (Functional)        (None, 10)                86877     \n",
      "=================================================================\n",
      "Total params: 87,661\n",
      "Trainable params: 784\n",
      "Non-trainable params: 86,877\n",
      "_________________________________________________________________\n",
      "Epoch 1/5\n",
      "  1/625 [..............................] - ETA: 3:00 - loss: 10.9941"
     ]
    },
    {
     "name": "stderr",
     "output_type": "stream",
     "text": [
      "2021-11-27 08:25:30.441063: I tensorflow/core/grappler/optimizers/custom_graph_optimizer_registry.cc:112] Plugin optimizer for device_type GPU is enabled.\n"
     ]
    },
    {
     "name": "stdout",
     "output_type": "stream",
     "text": [
      "625/625 [==============================] - 7s 11ms/step - loss: 0.0744\n",
      "Epoch 2/5\n",
      "625/625 [==============================] - 7s 11ms/step - loss: 0.0017\n",
      "Epoch 3/5\n",
      "625/625 [==============================] - 7s 11ms/step - loss: 0.0011\n",
      "Epoch 4/5\n",
      "625/625 [==============================] - 7s 11ms/step - loss: 8.1137e-04\n",
      "Epoch 5/5\n",
      "625/625 [==============================] - 7s 11ms/step - loss: 6.5505e-04\n"
     ]
    },
    {
     "data": {
      "text/plain": [
       "<keras.callbacks.History at 0x36059a9a0>"
      ]
     },
     "execution_count": 57,
     "metadata": {},
     "output_type": "execute_result"
    }
   ],
   "source": [
    "from tensorflow.keras.layers import Input, Dense, Layer, Lambda, Multiply, Reshape\n",
    "\n",
    "sample_input = np.ones(10000 * 28 * 28).reshape(10000, 28, 28)\n",
    "sample_output = np.array(10000 * [[0, 0, 0, 0, 0, 0, 1, 0, 0, 0]])\n",
    "\n",
    "\n",
    "joint_model.trainable = False\n",
    "\n",
    "new_input_layer =  Input(shape=(28,28,1))\n",
    "l = custom_layer((28,28,1))\n",
    "# this is the layer whose weight we believe is going to be the minimum\n",
    "new_weight_layer = l(new_input_layer)\n",
    "transfer = joint_model(new_weight_layer, training=False)\n",
    "\n",
    "\n",
    "optimization_model = Model(new_input_layer, transfer)\n",
    "optimization_model.compile('sgd', loss = 'categorical_crossentropy')\n",
    "optimization_model.summary()\n",
    "# basic training framework that is used in keras\n",
    "optimization_model.fit(sample_input, sample_output, batch_size=16, epochs=5, verbose = 1)\n",
    "# the model that we trained previously\n"
   ]
  },
  {
   "cell_type": "code",
   "execution_count": 62,
   "id": "cb22be83",
   "metadata": {},
   "outputs": [
    {
     "name": "stdout",
     "output_type": "stream",
     "text": [
      "Epoch 1/30\n",
      "625/625 [==============================] - 7s 11ms/step - loss: 1.1338e-04\n",
      "Epoch 2/30\n",
      "625/625 [==============================] - 7s 11ms/step - loss: 1.1073e-04\n",
      "Epoch 3/30\n",
      "625/625 [==============================] - 7s 11ms/step - loss: 1.0823e-04\n",
      "Epoch 4/30\n",
      "625/625 [==============================] - 7s 11ms/step - loss: 1.0584e-04\n",
      "Epoch 5/30\n",
      "625/625 [==============================] - 7s 11ms/step - loss: 1.0352e-04\n",
      "Epoch 6/30\n",
      "625/625 [==============================] - 7s 11ms/step - loss: 1.0126e-04\n",
      "Epoch 7/30\n",
      "625/625 [==============================] - 7s 11ms/step - loss: 9.9158e-05\n",
      "Epoch 8/30\n",
      "625/625 [==============================] - 7s 11ms/step - loss: 9.7185e-05\n",
      "Epoch 9/30\n",
      "625/625 [==============================] - 7s 11ms/step - loss: 9.5278e-05\n",
      "Epoch 10/30\n",
      "625/625 [==============================] - 7s 11ms/step - loss: 9.3455e-05\n",
      "Epoch 11/30\n",
      "625/625 [==============================] - 7s 11ms/step - loss: 9.1699e-05\n",
      "Epoch 12/30\n",
      "625/625 [==============================] - 7s 11ms/step - loss: 9.0020e-05\n",
      "Epoch 13/30\n",
      "625/625 [==============================] - 7s 11ms/step - loss: 8.8366e-05\n",
      "Epoch 14/30\n",
      "625/625 [==============================] - 7s 11ms/step - loss: 8.6742e-05\n",
      "Epoch 15/30\n",
      "625/625 [==============================] - 7s 11ms/step - loss: 8.5247e-05\n",
      "Epoch 16/30\n",
      "625/625 [==============================] - 7s 11ms/step - loss: 8.3785e-05\n",
      "Epoch 17/30\n",
      "625/625 [==============================] - 7s 11ms/step - loss: 8.2393e-05\n",
      "Epoch 18/30\n",
      "625/625 [==============================] - 7s 11ms/step - loss: 8.1031e-05\n",
      "Epoch 19/30\n",
      "625/625 [==============================] - 7s 11ms/step - loss: 7.9740e-05\n",
      "Epoch 20/30\n",
      "625/625 [==============================] - 7s 11ms/step - loss: 7.8471e-05\n",
      "Epoch 21/30\n",
      "625/625 [==============================] - 7s 11ms/step - loss: 7.7273e-05\n",
      "Epoch 22/30\n",
      "625/625 [==============================] - 7s 11ms/step - loss: 7.6086e-05\n",
      "Epoch 23/30\n",
      "625/625 [==============================] - 7s 11ms/step - loss: 7.4932e-05\n",
      "Epoch 24/30\n",
      "625/625 [==============================] - 7s 11ms/step - loss: 7.3827e-05\n",
      "Epoch 25/30\n",
      "625/625 [==============================] - 7s 11ms/step - loss: 7.2638e-05\n",
      "Epoch 26/30\n",
      "625/625 [==============================] - 7s 11ms/step - loss: 7.1587e-05\n",
      "Epoch 27/30\n",
      "625/625 [==============================] - 7s 11ms/step - loss: 7.0558e-05\n",
      "Epoch 28/30\n",
      "625/625 [==============================] - 7s 11ms/step - loss: 6.9566e-05\n",
      "Epoch 29/30\n",
      "625/625 [==============================] - 7s 11ms/step - loss: 6.8613e-05\n",
      "Epoch 30/30\n",
      "625/625 [==============================] - 7s 11ms/step - loss: 6.7685e-05\n"
     ]
    },
    {
     "data": {
      "text/plain": [
       "<keras.callbacks.History at 0x300cb30a0>"
      ]
     },
     "execution_count": 62,
     "metadata": {},
     "output_type": "execute_result"
    }
   ],
   "source": [
    "optimization_model.fit(sample_input, sample_output, batch_size=16, epochs=30, verbose = 1)"
   ]
  },
  {
   "cell_type": "code",
   "execution_count": 65,
   "id": "2bdb31ca",
   "metadata": {},
   "outputs": [
    {
     "data": {
      "image/png": "[encoded data removed]",
      "text/plain": [
       "<Figure size 432x288 with 1 Axes>"
      ]
     },
     "metadata": {
      "needs_background": "light"
     },
     "output_type": "display_data"
    },
    {
     "name": "stdout",
     "output_type": "stream",
     "text": [
      "[[5.1610277e-06 1.9678517e-07 4.0928233e-02 7.2253577e-05 2.1368247e-02\n",
      "  3.0442451e-03 9.2240971e-01 1.2154309e-02 3.4262089e-07 1.7279577e-05]]\n",
      "[[1.3401997e-07 4.8629930e-14 6.0651240e-07 6.1211752e-10 1.6491877e-05\n",
      "  4.8702739e-05 9.9993289e-01 1.2919630e-06 4.4041271e-11 3.0883163e-09]]\n"
     ]
    },
    {
     "data": {
      "image/png": "[encoded data removed]",
      "text/plain": [
       "<Figure size 432x288 with 1 Axes>"
      ]
     },
     "metadata": {
      "needs_background": "light"
     },
     "output_type": "display_data"
    }
   ],
   "source": [
    "joint_model.predict(l.get_weights())\n",
    "\n",
    "plt.imshow(l.get_weights()[0].reshape(28,28))\n",
    "plt.show()\n",
    "img = autoencoder.predict(l.get_weights())[0].reshape(28, 28)\n",
    "plt.imshow(img)\n",
    "print(joint_model.predict(img.reshape(1 ,28, 28, 1)))\n",
    "print(joint_model.predict(l.get_weights()[0].reshape(1, 28,28, 1)))"
   ]
  },
  {
   "cell_type": "code",
   "execution_count": 60,
   "id": "3731c918",
   "metadata": {},
   "outputs": [
    {
     "ename": "ValueError",
     "evalue": "cannot reshape array of size 784 into shape (1,49)",
     "output_type": "error",
     "traceback": [
      "\u001b[0;31m---------------------------------------------------------------------------\u001b[0m",
      "\u001b[0;31mValueError\u001b[0m                                Traceback (most recent call last)",
      "\u001b[0;32m/var/folders/b7/hz5qz0l56c1558bmwbgrktt00000gn/T/ipykernel_43251/523613292.py\u001b[0m in \u001b[0;36m<module>\u001b[0;34m\u001b[0m\n\u001b[1;32m      1\u001b[0m \u001b[0mimg\u001b[0m \u001b[0;34m=\u001b[0m \u001b[0mnp\u001b[0m\u001b[0;34m.\u001b[0m\u001b[0marray\u001b[0m\u001b[0;34m(\u001b[0m\u001b[0ml\u001b[0m\u001b[0;34m.\u001b[0m\u001b[0mget_weights\u001b[0m\u001b[0;34m(\u001b[0m\u001b[0;34m)\u001b[0m\u001b[0;34m)\u001b[0m\u001b[0;34m\u001b[0m\u001b[0;34m\u001b[0m\u001b[0m\n\u001b[0;32m----> 2\u001b[0;31m \u001b[0mimg\u001b[0m \u001b[0;34m=\u001b[0m \u001b[0mimg\u001b[0m\u001b[0;34m.\u001b[0m\u001b[0mreshape\u001b[0m\u001b[0;34m(\u001b[0m\u001b[0;36m1\u001b[0m\u001b[0;34m,\u001b[0m \u001b[0;36m49\u001b[0m\u001b[0;34m)\u001b[0m\u001b[0;34m\u001b[0m\u001b[0;34m\u001b[0m\u001b[0m\n\u001b[0m\u001b[1;32m      3\u001b[0m \u001b[0mnew_output\u001b[0m \u001b[0;34m=\u001b[0m \u001b[0mdecoding\u001b[0m\u001b[0;34m.\u001b[0m\u001b[0mpredict\u001b[0m\u001b[0;34m(\u001b[0m\u001b[0mimg\u001b[0m\u001b[0;34m)\u001b[0m\u001b[0;34m\u001b[0m\u001b[0;34m\u001b[0m\u001b[0m\n\u001b[1;32m      4\u001b[0m \u001b[0;34m\u001b[0m\u001b[0m\n\u001b[1;32m      5\u001b[0m \u001b[0mprediction_model\u001b[0m\u001b[0;34m.\u001b[0m\u001b[0mpredict\u001b[0m\u001b[0;34m(\u001b[0m\u001b[0ml\u001b[0m\u001b[0;34m.\u001b[0m\u001b[0mget_weights\u001b[0m\u001b[0;34m(\u001b[0m\u001b[0;34m)\u001b[0m\u001b[0;34m)\u001b[0m\u001b[0;34m\u001b[0m\u001b[0;34m\u001b[0m\u001b[0m\n",
      "\u001b[0;31mValueError\u001b[0m: cannot reshape array of size 784 into shape (1,49)"
     ]
    }
   ],
   "source": [
    "img = np.array(l.get_weights())\n",
    "img = img.reshape(1, 49)\n",
    "new_output = decoding.predict(img)\n",
    "\n",
    "prediction_model.predict(l.get_weights())\n"
   ]
  },
  {
   "cell_type": "code",
   "execution_count": 19,
   "id": "8be5b087",
   "metadata": {},
   "outputs": [
    {
     "name": "stdout",
     "output_type": "stream",
     "text": [
      "Model: \"model_3\"\n",
      "_________________________________________________________________\n",
      "Layer (type)                 Output Shape              Param #   \n",
      "=================================================================\n",
      "input_4 (InputLayer)         [(None, 28, 28, 1)]       0         \n",
      "_________________________________________________________________\n",
      "conv2d_9 (Conv2D)            (None, 26, 26, 16)        160       \n",
      "_________________________________________________________________\n",
      "max_pooling2d_9 (MaxPooling2 (None, 13, 13, 16)        0         \n",
      "_________________________________________________________________\n",
      "batch_normalization_9 (Batch (None, 13, 13, 16)        64        \n",
      "_________________________________________________________________\n",
      "conv2d_10 (Conv2D)           (None, 11, 11, 16)        2320      \n",
      "_________________________________________________________________\n",
      "max_pooling2d_10 (MaxPooling (None, 5, 5, 16)          0         \n",
      "_________________________________________________________________\n",
      "batch_normalization_10 (Batc (None, 5, 5, 16)          64        \n",
      "_________________________________________________________________\n",
      "conv2d_11 (Conv2D)           (None, 3, 3, 16)          2320      \n",
      "_________________________________________________________________\n",
      "max_pooling2d_11 (MaxPooling (None, 1, 1, 16)          0         \n",
      "_________________________________________________________________\n",
      "batch_normalization_11 (Batc (None, 1, 1, 16)          64        \n",
      "_________________________________________________________________\n",
      "flatten_3 (Flatten)          (None, 16)                0         \n",
      "_________________________________________________________________\n",
      "dense_3 (Dense)              (None, 10)                170       \n",
      "=================================================================\n",
      "Total params: 5,162\n",
      "Trainable params: 5,066\n",
      "Non-trainable params: 96\n",
      "_________________________________________________________________\n"
     ]
    }
   ],
   "source": [
    "from tensorflow.keras.layers import Dropout, Flatten, Conv2D, MaxPool2D, BatchNormalization, Dense\n",
    "\n",
    "\n",
    "input_layer = Input(shape=(28,28,1))\n",
    "x = Conv2D(filters = 16, kernel_size = (3, 3), activation='sigmoid', input_shape = (28, 28, 1))(input_layer)\n",
    "x = MaxPool2D(strides=(2,2))(x)\n",
    "x = BatchNormalization()(x)\n",
    "x = Conv2D(filters = 16, kernel_size = (3, 3), activation='sigmoid')(x)\n",
    "x = MaxPool2D(strides=(2,2))(x)\n",
    "x = BatchNormalization()(x)\n",
    "x = Conv2D(filters = 16, kernel_size = (3, 3), activation='relu')(x)\n",
    "x = MaxPool2D(strides=(2,2))(x)\n",
    "x = BatchNormalization()(x)\n",
    "x = Flatten()(x)\n",
    "output_layer = Dense(10, activation='softmax')(x)\n",
    "model = Model(input_layer, output_layer)\n",
    "\n",
    "model.summary()"
   ]
  },
  {
   "cell_type": "code",
   "execution_count": 19,
   "id": "e8bde58d",
   "metadata": {},
   "outputs": [
    {
     "name": "stdout",
     "output_type": "stream",
     "text": [
      "Model: \"model_3\"\n",
      "_________________________________________________________________\n",
      "Layer (type)                 Output Shape              Param #   \n",
      "=================================================================\n",
      "input_4 (InputLayer)         [(None, 28, 28, 1)]       0         \n",
      "_________________________________________________________________\n",
      "conv2d_9 (Conv2D)            (None, 26, 26, 16)        160       \n",
      "_________________________________________________________________\n",
      "max_pooling2d_9 (MaxPooling2 (None, 13, 13, 16)        0         \n",
      "_________________________________________________________________\n",
      "batch_normalization_9 (Batch (None, 13, 13, 16)        64        \n",
      "_________________________________________________________________\n",
      "conv2d_10 (Conv2D)           (None, 11, 11, 16)        2320      \n",
      "_________________________________________________________________\n",
      "max_pooling2d_10 (MaxPooling (None, 5, 5, 16)          0         \n",
      "_________________________________________________________________\n",
      "batch_normalization_10 (Batc (None, 5, 5, 16)          64        \n",
      "_________________________________________________________________\n",
      "conv2d_11 (Conv2D)           (None, 3, 3, 16)          2320      \n",
      "_________________________________________________________________\n",
      "max_pooling2d_11 (MaxPooling (None, 1, 1, 16)          0         \n",
      "_________________________________________________________________\n",
      "batch_normalization_11 (Batc (None, 1, 1, 16)          64        \n",
      "_________________________________________________________________\n",
      "flatten_3 (Flatten)          (None, 16)                0         \n",
      "_________________________________________________________________\n",
      "dense_3 (Dense)              (None, 10)                170       \n",
      "=================================================================\n",
      "Total params: 5,162\n",
      "Trainable params: 5,066\n",
      "Non-trainable params: 96\n",
      "_________________________________________________________________\n"
     ]
    }
   ],
   "source": [
    "from tensorflow.keras.layers import Dropout, Flatten, Conv2D, MaxPool2D, BatchNormalization, Dense\n",
    "\n",
    "\n",
    "input_layer = Input(shape=(28,28,1))\n",
    "x = Conv2D(filters = 16, kernel_size = (3, 3), activation='sigmoid', input_shape = (28, 28, 1))(input_layer)\n",
    "x = MaxPool2D(strides=(2,2))(x)\n",
    "x = BatchNormalization()(x)\n",
    "x = Conv2D(filters = 16, kernel_size = (3, 3), activation='sigmoid')(x)\n",
    "x = MaxPool2D(strides=(2,2))(x)\n",
    "x = BatchNormalization()(x)\n",
    "x = Conv2D(filters = 16, kernel_size = (3, 3), activation='relu')(x)\n",
    "x = MaxPool2D(strides=(2,2))(x)\n",
    "x = BatchNormalization()(x)\n",
    "x = Flatten()(x)\n",
    "output_layer = Dense(10, activation='softmax')(x)\n",
    "model = Model(input_layer, output_layer)\n",
    "\n",
    "model.summary()"
   ]
  },
  {
   "cell_type": "code",
   "execution_count": 20,
   "id": "fa63d1f7",
   "metadata": {},
   "outputs": [],
   "source": [
    "model.compile(loss='categorical_crossentropy', optimizer='rmsprop', metrics=[\"accuracy\"])"
   ]
  },
  {
   "cell_type": "code",
   "execution_count": 25,
   "id": "e3eb294d",
   "metadata": {},
   "outputs": [
    {
     "name": "stdout",
     "output_type": "stream",
     "text": [
      "Epoch 1/10\n",
      "118/118 [==============================] - 3s 23ms/step - loss: 0.0561 - accuracy: 0.9830 - val_loss: 0.0726 - val_accuracy: 0.9781\n",
      "Epoch 2/10\n",
      "118/118 [==============================] - 3s 22ms/step - loss: 0.0513 - accuracy: 0.9844 - val_loss: 0.0732 - val_accuracy: 0.9768\n",
      "Epoch 3/10\n",
      "118/118 [==============================] - 3s 22ms/step - loss: 0.0478 - accuracy: 0.9855 - val_loss: 0.0716 - val_accuracy: 0.9800\n",
      "Epoch 4/10\n",
      "118/118 [==============================] - 3s 22ms/step - loss: 0.0444 - accuracy: 0.9868 - val_loss: 0.0676 - val_accuracy: 0.9798\n",
      "Epoch 5/10\n",
      "118/118 [==============================] - 3s 21ms/step - loss: 0.0408 - accuracy: 0.9876 - val_loss: 0.0720 - val_accuracy: 0.9773\n",
      "Epoch 6/10\n",
      "118/118 [==============================] - 3s 22ms/step - loss: 0.0384 - accuracy: 0.9884 - val_loss: 0.0649 - val_accuracy: 0.9809\n",
      "Epoch 7/10\n",
      "118/118 [==============================] - 3s 22ms/step - loss: 0.0374 - accuracy: 0.9887 - val_loss: 0.0790 - val_accuracy: 0.9772\n",
      "Epoch 8/10\n",
      "118/118 [==============================] - 3s 22ms/step - loss: 0.0344 - accuracy: 0.9900 - val_loss: 0.0736 - val_accuracy: 0.9781\n",
      "Epoch 9/10\n",
      "118/118 [==============================] - 3s 22ms/step - loss: 0.0327 - accuracy: 0.9902 - val_loss: 0.0719 - val_accuracy: 0.9780\n",
      "Epoch 10/10\n",
      "118/118 [==============================] - 3s 22ms/step - loss: 0.0312 - accuracy: 0.9908 - val_loss: 0.0748 - val_accuracy: 0.9793\n"
     ]
    },
    {
     "data": {
      "text/plain": [
       "<keras.callbacks.History at 0x2e7e19a60>"
      ]
     },
     "execution_count": 25,
     "metadata": {},
     "output_type": "execute_result"
    }
   ],
   "source": [
    "epochs = 10\n",
    "batch_size = 512\n",
    "\n",
    "model.fit(x_train, y_train, batch_size = batch_size, epochs = epochs, \n",
    "          validation_data = (x_test, y_test))"
   ]
  },
  {
   "cell_type": "code",
   "execution_count": 26,
   "id": "26970b71",
   "metadata": {},
   "outputs": [],
   "source": [
    "class custom_layer(Layer):\n",
    "    def  __init__(self, output_dim, **kwargs):\n",
    "        self.output_dim = output_dim\n",
    "        super(custom_layer,self).__init__(**kwargs)\n",
    "    def build(self,input_shape):\n",
    "        output_shape = self.compute_output_shape(input_shape)\n",
    "        self.W=self.add_weight(name='kernel',\n",
    "                           shape=(1,) + output_shape[1:],\n",
    "                           constraint=tf.keras.constraints.NonNeg(),\n",
    "                           initializer='uniform'                              ,\n",
    "                           trainable=True)\n",
    "        self.built = True\n",
    "  # this self.built is necessary .\n",
    "    def call(self,x):\n",
    "        return x * self.W\n",
    "    def compute_output_shape(self, input_shape):\n",
    "        return(input_shape)\n"
   ]
  },
  {
   "cell_type": "code",
   "execution_count": 93,
   "id": "72550e9b",
   "metadata": {},
   "outputs": [
    {
     "name": "stdout",
     "output_type": "stream",
     "text": [
      "(60000, 28, 28, 1)\n"
     ]
    }
   ],
   "source": [
    "sample_input = np.ones(10000 * 28 * 28).reshape(10000, 28, 28)\n",
    "sample_output = np.array(10000 * [[0, 0, 1, 0, 0, 0, 0, 0, 0, 0]])\n",
    "sample_output.shape\n",
    "print(x_train.shape)\n"
   ]
  },
  {
   "cell_type": "code",
   "execution_count": 28,
   "id": "909b95be",
   "metadata": {},
   "outputs": [
    {
     "name": "stdout",
     "output_type": "stream",
     "text": [
      "Model: \"model_4\"\n",
      "_________________________________________________________________\n",
      "Layer (type)                 Output Shape              Param #   \n",
      "=================================================================\n",
      "input_5 (InputLayer)         [(None, 28, 28, 1)]       0         \n",
      "_________________________________________________________________\n",
      "custom_layer (custom_layer)  (None, 28, 28, 1)         784       \n",
      "_________________________________________________________________\n",
      "model_3 (Functional)         (None, 10)                5162      \n",
      "=================================================================\n",
      "Total params: 5,946\n",
      "Trainable params: 784\n",
      "Non-trainable params: 5,162\n",
      "_________________________________________________________________\n",
      "Epoch 1/50\n",
      " 3/10 [========>.....................] - ETA: 0s - loss: 6.2393"
     ]
    },
    {
     "name": "stderr",
     "output_type": "stream",
     "text": [
      "2021-11-24 16:22:33.549852: I tensorflow/core/grappler/optimizers/custom_graph_optimizer_registry.cc:112] Plugin optimizer for device_type GPU is enabled.\n"
     ]
    },
    {
     "name": "stdout",
     "output_type": "stream",
     "text": [
      "10/10 [==============================] - 1s 32ms/step - loss: 5.6989\n",
      "Epoch 2/50\n",
      "10/10 [==============================] - 0s 27ms/step - loss: 4.0493\n",
      "Epoch 3/50\n",
      "10/10 [==============================] - 0s 27ms/step - loss: 1.5508\n",
      "Epoch 4/50\n",
      "10/10 [==============================] - 0s 28ms/step - loss: 0.3342\n",
      "Epoch 5/50\n",
      "10/10 [==============================] - 0s 28ms/step - loss: 0.0990\n",
      "Epoch 6/50\n",
      "10/10 [==============================] - 0s 28ms/step - loss: 0.0564\n",
      "Epoch 7/50\n",
      "10/10 [==============================] - 0s 28ms/step - loss: 0.0406\n",
      "Epoch 8/50\n",
      "10/10 [==============================] - 0s 28ms/step - loss: 0.0320\n",
      "Epoch 9/50\n",
      "10/10 [==============================] - 0s 28ms/step - loss: 0.0266\n",
      "Epoch 10/50\n",
      "10/10 [==============================] - 0s 27ms/step - loss: 0.0230\n",
      "Epoch 11/50\n",
      "10/10 [==============================] - 0s 28ms/step - loss: 0.0204\n",
      "Epoch 12/50\n",
      "10/10 [==============================] - 0s 27ms/step - loss: 0.0182\n",
      "Epoch 13/50\n",
      "10/10 [==============================] - 0s 28ms/step - loss: 0.0165\n",
      "Epoch 14/50\n",
      "10/10 [==============================] - 0s 28ms/step - loss: 0.0152\n",
      "Epoch 15/50\n",
      "10/10 [==============================] - 0s 28ms/step - loss: 0.0140\n",
      "Epoch 16/50\n",
      "10/10 [==============================] - 0s 28ms/step - loss: 0.0129\n",
      "Epoch 17/50\n",
      "10/10 [==============================] - 0s 27ms/step - loss: 0.0120\n",
      "Epoch 18/50\n",
      "10/10 [==============================] - 0s 27ms/step - loss: 0.0113\n",
      "Epoch 19/50\n",
      "10/10 [==============================] - 0s 28ms/step - loss: 0.0106\n",
      "Epoch 20/50\n",
      "10/10 [==============================] - 0s 28ms/step - loss: 0.0100\n",
      "Epoch 21/50\n",
      "10/10 [==============================] - 0s 27ms/step - loss: 0.0094\n",
      "Epoch 22/50\n",
      "10/10 [==============================] - 0s 27ms/step - loss: 0.0089\n",
      "Epoch 23/50\n",
      "10/10 [==============================] - 0s 28ms/step - loss: 0.0084\n",
      "Epoch 24/50\n",
      "10/10 [==============================] - 0s 27ms/step - loss: 0.0080\n",
      "Epoch 25/50\n",
      "10/10 [==============================] - 0s 27ms/step - loss: 0.0077\n",
      "Epoch 26/50\n",
      "10/10 [==============================] - 0s 28ms/step - loss: 0.0073\n",
      "Epoch 27/50\n",
      "10/10 [==============================] - 0s 27ms/step - loss: 0.0070\n",
      "Epoch 28/50\n",
      "10/10 [==============================] - 0s 27ms/step - loss: 0.0067\n",
      "Epoch 29/50\n",
      "10/10 [==============================] - 0s 27ms/step - loss: 0.0065\n",
      "Epoch 30/50\n",
      "10/10 [==============================] - 0s 28ms/step - loss: 0.0063\n",
      "Epoch 31/50\n",
      "10/10 [==============================] - 0s 28ms/step - loss: 0.0061\n",
      "Epoch 32/50\n",
      "10/10 [==============================] - 0s 28ms/step - loss: 0.0059\n",
      "Epoch 33/50\n",
      "10/10 [==============================] - 0s 28ms/step - loss: 0.0057\n",
      "Epoch 34/50\n",
      "10/10 [==============================] - 0s 27ms/step - loss: 0.0055\n",
      "Epoch 35/50\n",
      "10/10 [==============================] - 0s 27ms/step - loss: 0.0053\n",
      "Epoch 36/50\n",
      "10/10 [==============================] - 0s 28ms/step - loss: 0.0052\n",
      "Epoch 37/50\n",
      "10/10 [==============================] - 0s 27ms/step - loss: 0.0050\n",
      "Epoch 38/50\n",
      "10/10 [==============================] - 0s 27ms/step - loss: 0.0049\n",
      "Epoch 39/50\n",
      "10/10 [==============================] - 0s 28ms/step - loss: 0.0048\n",
      "Epoch 40/50\n",
      "10/10 [==============================] - 0s 27ms/step - loss: 0.0046\n",
      "Epoch 41/50\n",
      "10/10 [==============================] - 0s 27ms/step - loss: 0.0045\n",
      "Epoch 42/50\n",
      "10/10 [==============================] - 0s 27ms/step - loss: 0.0044\n",
      "Epoch 43/50\n",
      "10/10 [==============================] - 0s 28ms/step - loss: 0.0043\n",
      "Epoch 44/50\n",
      "10/10 [==============================] - 0s 27ms/step - loss: 0.0042\n",
      "Epoch 45/50\n",
      "10/10 [==============================] - 0s 27ms/step - loss: 0.0041\n",
      "Epoch 46/50\n",
      "10/10 [==============================] - 0s 27ms/step - loss: 0.0040\n",
      "Epoch 47/50\n",
      "10/10 [==============================] - 0s 28ms/step - loss: 0.0039\n",
      "Epoch 48/50\n",
      "10/10 [==============================] - 0s 28ms/step - loss: 0.0039\n",
      "Epoch 49/50\n",
      "10/10 [==============================] - 0s 28ms/step - loss: 0.0038\n",
      "Epoch 50/50\n",
      "10/10 [==============================] - 0s 27ms/step - loss: 0.0037\n"
     ]
    },
    {
     "data": {
      "text/plain": [
       "<keras.callbacks.History at 0x2e7e195b0>"
      ]
     },
     "execution_count": 28,
     "metadata": {},
     "output_type": "execute_result"
    }
   ],
   "source": [
    "from tensorflow.keras.layers import Input, Dense, Layer, Lambda, Multiply, Reshape\n",
    "model.trainable = False\n",
    "def my_loss_fn(y_true, y_pred):\n",
    "    return  (1 - y_pred[0]) + tf.reduce_mean(y_pred, axis=-1) \n",
    "\n",
    "new_input_layer =  Input(shape=(28,28,1))\n",
    "l = custom_layer((28,28,1))\n",
    "# this is the layer whose weight we believe is going to be the minimum\n",
    "new_weight_layer = l(new_input_layer)\n",
    "transfer = model(new_weight_layer, training=False)\n",
    "\n",
    "\n",
    "optimization_model = Model(new_input_layer, transfer)\n",
    "optimization_model.compile('sgd', loss = 'categorical_crossentropy')\n",
    "optimization_model.summary()\n",
    "# basic training framework that is used in keras\n",
    "optimization_model.fit(sample_input, sample_output, batch_size=1024, epochs=50, verbose = 1)\n",
    "# the model that we trained previously\n",
    "#transfer = model(new_weight_layer, training=False)"
   ]
  },
  {
   "cell_type": "code",
   "execution_count": null,
   "id": "ac6e9e41",
   "metadata": {},
   "outputs": [],
   "source": [
    "optimization_model.fit(sample_input, sample_output, batch_size=8, epochs=50, verbose = 1)\n",
    "\n"
   ]
  },
  {
   "cell_type": "code",
   "execution_count": 30,
   "id": "52317e40",
   "metadata": {},
   "outputs": [],
   "source": [
    "\n",
    "import matplotlib.pyplot as plt\n",
    "import matplotlib.image as mpimg\n",
    "\n",
    "img = np.array(l.get_weights()).reshape(( 28, 28))\n"
   ]
  },
  {
   "cell_type": "code",
   "execution_count": 31,
   "id": "db87a07b",
   "metadata": {},
   "outputs": [
    {
     "name": "stdout",
     "output_type": "stream",
     "text": [
      "[[7.8372141e-06 1.7723161e-05 9.9993908e-01 2.4317018e-05 5.1481091e-09\n",
      "  2.7174497e-06 4.0945881e-07 7.9448027e-06 7.3929620e-08 4.8044275e-09]]\n"
     ]
    },
    {
     "name": "stderr",
     "output_type": "stream",
     "text": [
      "2021-11-24 16:27:29.490902: I tensorflow/core/grappler/optimizers/custom_graph_optimizer_registry.cc:112] Plugin optimizer for device_type GPU is enabled.\n"
     ]
    },
    {
     "data": {
      "text/plain": [
       "<matplotlib.image.AxesImage at 0x2d8f62850>"
      ]
     },
     "execution_count": 31,
     "metadata": {},
     "output_type": "execute_result"
    },
    {
     "data": {
      "image/png": "[encoded data removed]",
      "text/plain": [
       "<Figure size 432x288 with 1 Axes>"
      ]
     },
     "metadata": {
      "needs_background": "light"
     },
     "output_type": "display_data"
    }
   ],
   "source": [
    "print(model.predict(img.reshape(1,28,28,1)))\n",
    "img = img.reshape(28,28)\n",
    "plt.imshow(img)"
   ]
  },
  {
   "cell_type": "code",
   "execution_count": 32,
   "id": "bad7d634",
   "metadata": {},
   "outputs": [
    {
     "data": {
      "text/plain": [
       "0.5545107"
      ]
     },
     "execution_count": 32,
     "metadata": {},
     "output_type": "execute_result"
    }
   ],
   "source": [
    "img.max()"
   ]
  },
  {
   "cell_type": "code",
   "execution_count": null,
   "id": "70657a55",
   "metadata": {},
   "outputs": [],
   "source": []
  }
 ],
 "metadata": {
  "kernelspec": {
   "display_name": "Python 3 (ipykernel)",
   "language": "python",
   "name": "python3"
  },
  "language_info": {
   "codemirror_mode": {
    "name": "ipython",
    "version": 3
   },
   "file_extension": ".py",
   "mimetype": "text/x-python",
   "name": "python",
   "nbconvert_exporter": "python",
   "pygments_lexer": "ipython3",
   "version": "3.8.12"
  }
 },
 "nbformat": 4,
 "nbformat_minor": 5
}
