{
 "cells": [
  {
   "cell_type": "markdown",
   "metadata": {},
   "source": [
    "## Fun with Neural Networks Part 1.\n",
    "\n",
    "Currently, the majority of work with neural networks has been in the regression/classification steps. For instance, people think about trying to predict a given output value, given a set of inputs. However, given the way that neural networks work, I think they can be easily extended to also find optimal solutions for unknown functions.\n",
    "\n",
    "A few of the applications that I've been thinking about\n",
    "\n",
    "1. Imagine we have a dataset in which patients are given a variety of different medication. We have measured the following, their genetic status, the drugs that they have been administered, and some outcome measure. For each patient, can we find an optimial combination of drugs to best handle their disease.\n",
    "\n",
    "2. Certain features are important in terms of predicting things like solubility or target engagement, can we propose a new structure that will optimize solubility and/or binding.\n",
    "\n",
    "So the overall thought is to use neural networks to do the basic prediction task, but then understand that the neural network gives a differentiable function that we can then use to find at least a local minima. \n",
    "\n",
    "One of the nicer things is that because neural networks already work via gradient descent, we can easily use the same NN solvers to find the optimal solutions"
   ]
  },
  {
   "cell_type": "code",
   "execution_count": 1,
   "metadata": {},
   "outputs": [],
   "source": [
    "import warnings\n",
    "import os\n",
    "\n",
    "warnings.filterwarnings('ignore')\n",
    "\n",
    "from json import load\n",
    "import pandas as pd\n",
    "import numpy as np\n",
    "import keras.backend as K\n",
    "import tensorflow as tf\n",
    "import math\n",
    "\n",
    "from tensorflow.keras import regularizers\n",
    "from tensorflow.keras.layers import Input, Dense, Layer, Lambda\n",
    "from tensorflow.keras.models import Model, load_model\n",
    "\n",
    "import matplotlib.pyplot as plt"
   ]
  },
  {
   "cell_type": "code",
   "execution_count": 2,
   "metadata": {},
   "outputs": [
    {
     "data": {
      "text/plain": [
       "[<matplotlib.lines.Line2D at 0x178d89040>]"
      ]
     },
     "execution_count": 2,
     "metadata": {},
     "output_type": "execute_result"
    },
    {
     "data": {
      "image/png": "[encoded data removed]",
      "text/plain": [
       "<Figure size 432x288 with 1 Axes>"
      ]
     },
     "metadata": {
      "needs_background": "light"
     },
     "output_type": "display_data"
    }
   ],
   "source": [
    "# This is just intended to generate some data for which the minima can be easily seen visually.\n",
    "# It's a bit of a toy problem, but I think it's sufficient to illustrate the point. \n",
    "x = np.arange(0, 10000)/1000.0 - 5\n",
    "y = x ** 4 - 20 * x ** 2 +  10 * x + 4 + np.random.rand(len(x)) * 20\n",
    "plt.plot(x, y)"
   ]
  },
  {
   "cell_type": "code",
   "execution_count": 3,
   "metadata": {},
   "outputs": [],
   "source": [
    "# reshape the matrix so it's compatible with keras\n",
    "x = x.reshape(len(x), 1)"
   ]
  },
  {
   "cell_type": "code",
   "execution_count": 4,
   "metadata": {
    "scrolled": true
   },
   "outputs": [
    {
     "name": "stdout",
     "output_type": "stream",
     "text": [
      "Metal device set to: Apple M1 Pro\n",
      "Epoch 1/20\n"
     ]
    },
    {
     "name": "stderr",
     "output_type": "stream",
     "text": [
      "2021-11-27 13:24:54.674679: I tensorflow/core/common_runtime/pluggable_device/pluggable_device_factory.cc:305] Could not identify NUMA node of platform GPU ID 0, defaulting to 0. Your kernel may not have been built with NUMA support.\n",
      "2021-11-27 13:24:54.674802: I tensorflow/core/common_runtime/pluggable_device/pluggable_device_factory.cc:271] Created TensorFlow device (/job:localhost/replica:0/task:0/device:GPU:0 with 0 MB memory) -> physical PluggableDevice (device: 0, name: METAL, pci bus id: <undefined>)\n",
      "2021-11-27 13:24:54.749148: I tensorflow/compiler/mlir/mlir_graph_optimization_pass.cc:185] None of the MLIR Optimization Passes are enabled (registered 2)\n",
      "2021-11-27 13:24:54.749349: W tensorflow/core/platform/profile_utils/cpu_utils.cc:128] Failed to get CPU frequency: 0 Hz\n"
     ]
    },
    {
     "name": "stdout",
     "output_type": "stream",
     "text": [
      "  6/625 [..............................] - ETA: 6s - loss: 3672.1875  "
     ]
    },
    {
     "name": "stderr",
     "output_type": "stream",
     "text": [
      "2021-11-27 13:24:54.920973: I tensorflow/core/grappler/optimizers/custom_graph_optimizer_registry.cc:112] Plugin optimizer for device_type GPU is enabled.\n"
     ]
    },
    {
     "name": "stdout",
     "output_type": "stream",
     "text": [
      "623/625 [============================>.] - ETA: 0s - loss: 3232.3240"
     ]
    },
    {
     "name": "stderr",
     "output_type": "stream",
     "text": [
      "2021-11-27 13:25:00.675850: I tensorflow/core/grappler/optimizers/custom_graph_optimizer_registry.cc:112] Plugin optimizer for device_type GPU is enabled.\n"
     ]
    },
    {
     "name": "stdout",
     "output_type": "stream",
     "text": [
      "625/625 [==============================] - 8s 13ms/step - loss: 3228.3354 - val_loss: 2400.8242\n",
      "Epoch 2/20\n",
      "625/625 [==============================] - 8s 12ms/step - loss: 2313.9438 - val_loss: 2229.4878\n",
      "Epoch 3/20\n",
      "625/625 [==============================] - 8s 12ms/step - loss: 2141.9741 - val_loss: 2054.8533\n",
      "Epoch 4/20\n",
      "625/625 [==============================] - 8s 13ms/step - loss: 1968.2542 - val_loss: 1872.4642\n",
      "Epoch 5/20\n",
      "625/625 [==============================] - 8s 13ms/step - loss: 1733.7938 - val_loss: 1547.9813\n",
      "Epoch 6/20\n",
      "625/625 [==============================] - 8s 13ms/step - loss: 1292.1952 - val_loss: 1030.3175\n",
      "Epoch 7/20\n",
      "625/625 [==============================] - 8s 12ms/step - loss: 756.0240 - val_loss: 454.7518\n",
      "Epoch 8/20\n",
      "625/625 [==============================] - 8s 13ms/step - loss: 307.8468 - val_loss: 197.5898\n",
      "Epoch 9/20\n",
      "625/625 [==============================] - 8s 13ms/step - loss: 143.6030 - val_loss: 113.3809\n",
      "Epoch 10/20\n",
      "625/625 [==============================] - 8s 13ms/step - loss: 90.3968 - val_loss: 94.2239\n",
      "Epoch 11/20\n",
      "625/625 [==============================] - 8s 13ms/step - loss: 71.0814 - val_loss: 62.0517\n",
      "Epoch 12/20\n",
      "625/625 [==============================] - 8s 13ms/step - loss: 60.7871 - val_loss: 53.0052\n",
      "Epoch 13/20\n",
      "625/625 [==============================] - 8s 13ms/step - loss: 53.8318 - val_loss: 47.6260\n",
      "Epoch 14/20\n",
      "625/625 [==============================] - 8s 12ms/step - loss: 47.1765 - val_loss: 42.8837\n",
      "Epoch 15/20\n",
      "625/625 [==============================] - 8s 12ms/step - loss: 42.5864 - val_loss: 41.8863\n",
      "Epoch 16/20\n",
      "625/625 [==============================] - 8s 13ms/step - loss: 41.9083 - val_loss: 39.3225\n",
      "Epoch 17/20\n",
      "625/625 [==============================] - 8s 13ms/step - loss: 40.9527 - val_loss: 43.0269\n",
      "Epoch 18/20\n",
      "625/625 [==============================] - 8s 13ms/step - loss: 41.1227 - val_loss: 43.7478\n",
      "Epoch 19/20\n",
      "625/625 [==============================] - 8s 13ms/step - loss: 40.5400 - val_loss: 44.2638\n",
      "Epoch 20/20\n",
      "625/625 [==============================] - 8s 13ms/step - loss: 40.8859 - val_loss: 40.5640\n"
     ]
    },
    {
     "data": {
      "text/plain": [
       "<keras.callbacks.History at 0x17ae53730>"
      ]
     },
     "execution_count": 4,
     "metadata": {},
     "output_type": "execute_result"
    }
   ],
   "source": [
    "import ipywidgets\n",
    "\n",
    "#this is our basic model that we're going to use to reconstruct the function\n",
    "\n",
    "input_layer = Input(shape=(1,))\n",
    "hidden_layer = Dense(12, activation='elu')(input_layer)\n",
    "hidden_layer = Dense(9, activation='elu')(hidden_layer)\n",
    "hidden_layer = Dense(6, activation='elu')(hidden_layer)\n",
    "hidden_layer = Dense(3, activation='elu')(hidden_layer)\n",
    "decoder = Dense(1, activation='linear')(hidden_layer)\n",
    "\n",
    "model = Model(input_layer, decoder)\n",
    "model.compile(loss='mse', optimizer='rmsprop')\n",
    "model.fit(x, y, batch_size=16, epochs=20, validation_data=(x,y), verbose = 1)"
   ]
  },
  {
   "cell_type": "code",
   "execution_count": 5,
   "metadata": {},
   "outputs": [
    {
     "name": "stdout",
     "output_type": "stream",
     "text": [
      "Epoch 1/20\n",
      "   7/2500 [..............................] - ETA: 23s - loss: 36.6902"
     ]
    },
    {
     "name": "stderr",
     "output_type": "stream",
     "text": [
      "2021-11-27 13:27:31.970822: I tensorflow/core/grappler/optimizers/custom_graph_optimizer_registry.cc:112] Plugin optimizer for device_type GPU is enabled.\n"
     ]
    },
    {
     "name": "stdout",
     "output_type": "stream",
     "text": [
      "2496/2500 [============================>.] - ETA: 0s - loss: 44.8901"
     ]
    },
    {
     "name": "stderr",
     "output_type": "stream",
     "text": [
      "2021-11-27 13:27:54.496494: I tensorflow/core/grappler/optimizers/custom_graph_optimizer_registry.cc:112] Plugin optimizer for device_type GPU is enabled.\n"
     ]
    },
    {
     "name": "stdout",
     "output_type": "stream",
     "text": [
      "2500/2500 [==============================] - 32s 13ms/step - loss: 44.9129 - val_loss: 44.3644\n",
      "Epoch 2/20\n",
      "2500/2500 [==============================] - 32s 13ms/step - loss: 44.1604 - val_loss: 41.5571\n",
      "Epoch 3/20\n",
      "2500/2500 [==============================] - 32s 13ms/step - loss: 44.0206 - val_loss: 51.2217\n",
      "Epoch 4/20\n",
      "2500/2500 [==============================] - 32s 13ms/step - loss: 44.0979 - val_loss: 39.1589\n",
      "Epoch 5/20\n",
      "2500/2500 [==============================] - 768s 307ms/step - loss: 43.8481 - val_loss: 44.1209\n",
      "Epoch 6/20\n",
      "2500/2500 [==============================] - 976s 391ms/step - loss: 43.2917 - val_loss: 46.8179\n",
      "Epoch 7/20\n",
      "2500/2500 [==============================] - 32s 13ms/step - loss: 43.4532 - val_loss: 38.4760\n",
      "Epoch 8/20\n",
      "2500/2500 [==============================] - 33s 13ms/step - loss: 43.4825 - val_loss: 36.2865\n",
      "Epoch 9/20\n",
      "2500/2500 [==============================] - 33s 13ms/step - loss: 43.4577 - val_loss: 45.4941\n",
      "Epoch 10/20\n",
      "2500/2500 [==============================] - 32s 13ms/step - loss: 43.2688 - val_loss: 38.2612\n",
      "Epoch 11/20\n",
      "2500/2500 [==============================] - 32s 13ms/step - loss: 43.2315 - val_loss: 43.5577\n",
      "Epoch 12/20\n",
      "2500/2500 [==============================] - 32s 13ms/step - loss: 42.3304 - val_loss: 43.2568\n",
      "Epoch 13/20\n",
      "2500/2500 [==============================] - 80s 32ms/step - loss: 42.6425 - val_loss: 36.2143\n",
      "Epoch 14/20\n",
      "2500/2500 [==============================] - 33s 13ms/step - loss: 42.3841 - val_loss: 49.9574\n",
      "Epoch 15/20\n",
      "2500/2500 [==============================] - 32s 13ms/step - loss: 42.7999 - val_loss: 41.6395\n",
      "Epoch 16/20\n",
      "2500/2500 [==============================] - 32s 13ms/step - loss: 42.2146 - val_loss: 39.0139\n",
      "Epoch 17/20\n",
      "2500/2500 [==============================] - 32s 13ms/step - loss: 42.7021 - val_loss: 44.6097\n",
      "Epoch 18/20\n",
      "2500/2500 [==============================] - 33s 13ms/step - loss: 42.3163 - val_loss: 40.0795\n",
      "Epoch 19/20\n",
      "2500/2500 [==============================] - 33s 13ms/step - loss: 42.4609 - val_loss: 41.7550\n",
      "Epoch 20/20\n",
      "2500/2500 [==============================] - 33s 13ms/step - loss: 42.2727 - val_loss: 48.5379\n"
     ]
    },
    {
     "data": {
      "text/plain": [
       "<keras.callbacks.History at 0x17c792880>"
      ]
     },
     "execution_count": 5,
     "metadata": {},
     "output_type": "execute_result"
    }
   ],
   "source": [
    "model.fit(x, y, batch_size=4, epochs=20, validation_data=(x,y), verbose = 1)"
   ]
  },
  {
   "cell_type": "code",
   "execution_count": 6,
   "metadata": {},
   "outputs": [
    {
     "name": "stderr",
     "output_type": "stream",
     "text": [
      "2021-11-27 14:07:09.094966: I tensorflow/core/grappler/optimizers/custom_graph_optimizer_registry.cc:112] Plugin optimizer for device_type GPU is enabled.\n"
     ]
    }
   ],
   "source": [
    "# predict the curve again. Yes this is a self prediction, but we'll leave the cross validation as \n",
    "# an exercise for the reader\n",
    "p = model.predict(x)"
   ]
  },
  {
   "cell_type": "code",
   "execution_count": 7,
   "metadata": {},
   "outputs": [
    {
     "data": {
      "text/plain": [
       "[<matplotlib.lines.Line2D at 0x17a1d1d30>]"
      ]
     },
     "execution_count": 7,
     "metadata": {},
     "output_type": "execute_result"
    },
    {
     "data": {
      "image/png": "[encoded data removed]",
      "text/plain": [
       "<Figure size 432x288 with 1 Axes>"
      ]
     },
     "metadata": {
      "needs_background": "light"
     },
     "output_type": "display_data"
    }
   ],
   "source": [
    "# unsurprisingly it is able to replicate the original function\n",
    "plt.plot(x, y)\n",
    "plt.plot(x, p)"
   ]
  },
  {
   "cell_type": "code",
   "execution_count": 8,
   "metadata": {},
   "outputs": [],
   "source": [
    "# we're going to freeze the model\n",
    "model.trainable = False"
   ]
  },
  {
   "cell_type": "markdown",
   "metadata": {},
   "source": [
    "### Optimization\n",
    "\n",
    "The previous section was a pretty straightforward data generation and training of the neural network. Within the next section we're going to be trying to find the optimal solution.\n",
    "\n",
    "Essentailly, we want to have a \"layer\" whose weights can be optimized, and which serve as an input to the trained model. "
   ]
  },
  {
   "cell_type": "code",
   "execution_count": 9,
   "metadata": {},
   "outputs": [],
   "source": [
    "# I don't really care about the input and output at this point \n",
    "sample_input = np.ones(10000).reshape(10000, 1)\n",
    "#this doesn't matter at all, we're just going to minimize the function\n",
    "sample_output = np.zeros(10000)"
   ]
  },
  {
   "cell_type": "code",
   "execution_count": 10,
   "metadata": {},
   "outputs": [],
   "source": [
    "# this loss function is just the value of the function we're trying to minimize.\n",
    "# all of the inputs are the same and so we don't really care about y_true\n",
    "def my_loss_fn(y_true, y_pred):\n",
    "    return tf.reduce_mean(y_pred, axis=-1) "
   ]
  },
  {
   "cell_type": "code",
   "execution_count": 11,
   "metadata": {},
   "outputs": [],
   "source": [
    "class custom_layer(Layer):\n",
    "    def  __init__(self, output_dim, **kwargs):\n",
    "        self.output_dim = output_dim\n",
    "        super(custom_layer,self).__init__(**kwargs)\n",
    "    def build(self,input_shape):\n",
    "        output_shape = self.compute_output_shape(input_shape)\n",
    "        self.W=self.add_weight(name='kernel',\n",
    "                           shape=(1,) + output_shape[1:],\n",
    "                           initializer='uniform'                              ,\n",
    "                           trainable=True)\n",
    "        self.built = True\n",
    "  # this self.built is necessary .\n",
    "    def call(self,x):\n",
    "        return x * self.W\n",
    "    def compute_output_shape(self, input_shape):\n",
    "        return(input_shape)"
   ]
  },
  {
   "cell_type": "code",
   "execution_count": 12,
   "metadata": {},
   "outputs": [
    {
     "name": "stdout",
     "output_type": "stream",
     "text": [
      "Model: \"model_1\"\n",
      "_________________________________________________________________\n",
      "Layer (type)                 Output Shape              Param #   \n",
      "=================================================================\n",
      "input_2 (InputLayer)         [(None, 1)]               0         \n",
      "_________________________________________________________________\n",
      "custom_layer (custom_layer)  (None, 1)                 1         \n",
      "_________________________________________________________________\n",
      "model (Functional)           (None, 1)                 226       \n",
      "=================================================================\n",
      "Total params: 227\n",
      "Trainable params: 1\n",
      "Non-trainable params: 226\n",
      "_________________________________________________________________\n",
      "Epoch 1/5\n",
      "  24/2500 [..............................] - ETA: 16s - loss: 12.1414"
     ]
    },
    {
     "name": "stderr",
     "output_type": "stream",
     "text": [
      "2021-11-27 14:07:10.475298: I tensorflow/core/grappler/optimizers/custom_graph_optimizer_registry.cc:112] Plugin optimizer for device_type GPU is enabled.\n"
     ]
    },
    {
     "name": "stdout",
     "output_type": "stream",
     "text": [
      "2497/2500 [============================>.] - ETA: 0s - loss: -36.2829"
     ]
    },
    {
     "name": "stderr",
     "output_type": "stream",
     "text": [
      "2021-11-27 14:07:26.749144: I tensorflow/core/grappler/optimizers/custom_graph_optimizer_registry.cc:112] Plugin optimizer for device_type GPU is enabled.\n"
     ]
    },
    {
     "name": "stdout",
     "output_type": "stream",
     "text": [
      "2500/2500 [==============================] - 25s 10ms/step - loss: -36.3596 - val_loss: 494.9738\n",
      "Epoch 2/5\n",
      "2500/2500 [==============================] - 25s 10ms/step - loss: -119.8081 - val_loss: 817.4183\n",
      "Epoch 3/5\n",
      "2500/2500 [==============================] - 25s 10ms/step - loss: -122.1774 - val_loss: 817.4178\n",
      "Epoch 4/5\n",
      "2500/2500 [==============================] - 25s 10ms/step - loss: -122.1774 - val_loss: 817.4185\n",
      "Epoch 5/5\n",
      "2500/2500 [==============================] - 25s 10ms/step - loss: -122.1774 - val_loss: 817.4178\n"
     ]
    },
    {
     "data": {
      "text/plain": [
       "<keras.callbacks.History at 0x17a0dee20>"
      ]
     },
     "execution_count": 12,
     "metadata": {},
     "output_type": "execute_result"
    }
   ],
   "source": [
    "# input layer\n",
    "new_input_layer =  Input(shape=(1,))\n",
    "l = custom_layer(1)\n",
    "# this is the layer whose weight we believe is going to be the minimum\n",
    "new_weight_layer = l(new_input_layer)\n",
    "# the model that we trained previously\n",
    "transfer = model(new_weight_layer, training=False)\n",
    "\n",
    "optimization_model = Model(new_input_layer, transfer)\n",
    "optimization_model.compile('rmsprop', loss = my_loss_fn)\n",
    "optimization_model.summary()\n",
    "# basic training framework that is used in keras\n",
    "optimization_model.fit(sample_input, sample_output, batch_size=4, epochs=5, validation_data=(x,y), verbose = 1)"
   ]
  },
  {
   "cell_type": "code",
   "execution_count": 13,
   "metadata": {},
   "outputs": [
    {
     "name": "stdout",
     "output_type": "stream",
     "text": [
      "-3.3199105\n"
     ]
    },
    {
     "name": "stderr",
     "output_type": "stream",
     "text": [
      "2021-11-27 14:09:15.855995: I tensorflow/core/grappler/optimizers/custom_graph_optimizer_registry.cc:112] Plugin optimizer for device_type GPU is enabled.\n"
     ]
    }
   ],
   "source": [
    "optimum_x = l.get_weights()[0][0][0]\n",
    "print(optimum_x)\n",
    "optimum_y = model.predict(np.array([optimum_x]))"
   ]
  },
  {
   "cell_type": "code",
   "execution_count": 14,
   "metadata": {},
   "outputs": [
    {
     "data": {
      "text/plain": [
       "<matplotlib.lines.Line2D at 0x17a161d00>"
      ]
     },
     "execution_count": 14,
     "metadata": {},
     "output_type": "execute_result"
    },
    {
     "data": {
      "image/png": "[encoded data removed]",
      "text/plain": [
       "<Figure size 432x288 with 1 Axes>"
      ]
     },
     "metadata": {
      "needs_background": "light"
     },
     "output_type": "display_data"
    }
   ],
   "source": [
    "plt.plot(x, y)\n",
    "plt.plot(x, p)\n",
    "\n",
    "plt.axvline(x=optimum_x)\n",
    "plt.axhline(y=optimum_y)"
   ]
  },
  {
   "cell_type": "code",
   "execution_count": null,
   "metadata": {},
   "outputs": [],
   "source": []
  }
 ],
 "metadata": {
  "kernelspec": {
   "display_name": "Python 3 (ipykernel)",
   "language": "python",
   "name": "python3"
  },
  "language_info": {
   "codemirror_mode": {
    "name": "ipython",
    "version": 3
   },
   "file_extension": ".py",
   "mimetype": "text/x-python",
   "name": "python",
   "nbconvert_exporter": "python",
   "pygments_lexer": "ipython3",
   "version": "3.8.12"
  }
 },
 "nbformat": 4,
 "nbformat_minor": 4
}
