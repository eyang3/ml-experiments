{
 "cells": [
  {
   "cell_type": "markdown",
   "metadata": {},
   "source": [
    "## Fun with Neural Networks Part 2.\n",
    "\n",
    "Currently, the majority of work with neural networks has been in the regression/classification steps. For instance, people think about trying to predict a given output value, given a set of inputs. However, given the way that neural networks work, I think they can be easily extended to also find optimal solutions for unknown functions.\n",
    "\n",
    "A few of the applications that I've been thinking about\n",
    "\n",
    "1. Imagine we have a dataset in which patients are given a variety of different medication. We have measured the following, their genetic status, the drugs that they have been administered, and some outcome measure. For each patient, can we find an optimial combination of drugs to best handle their disease.\n",
    "\n",
    "2. Certain features are important in terms of predicting things like solubility or target engagement, can we propose a new structure that will optimize solubility and/or binding.\n",
    "\n",
    "So the overall thought is to use neural networks to do the basic prediction task, but then understand that the neural network gives a differentiable function that we can then use to find at least a local minima. \n",
    "\n",
    "One of the nicer things is that because neural networks already work via gradient descent, we can easily use the same NN solvers to find the optimal solutions"
   ]
  },
  {
   "cell_type": "code",
   "execution_count": 2,
   "metadata": {},
   "outputs": [],
   "source": [
    "import warnings\n",
    "import os\n",
    "\n",
    "warnings.filterwarnings('ignore')\n",
    "\n",
    "from json import load\n",
    "import pandas as pd\n",
    "import numpy as np\n",
    "import keras.backend as K\n",
    "import tensorflow as tf\n",
    "import math\n",
    "\n",
    "from tensorflow.keras import regularizers\n",
    "from tensorflow.keras.layers import Input, Dense, Layer, Lambda\n",
    "from tensorflow.keras.models import Model, load_model\n",
    "\n",
    "import matplotlib.pyplot as plt"
   ]
  },
  {
   "cell_type": "code",
   "execution_count": 3,
   "metadata": {},
   "outputs": [
    {
     "data": {
      "text/plain": [
       "[<matplotlib.lines.Line2D at 0x1648c27c0>]"
      ]
     },
     "execution_count": 3,
     "metadata": {},
     "output_type": "execute_result"
    },
    {
     "data": {
      "image/png": "[encoded data removed]",
      "text/plain": [
       "<Figure size 432x288 with 1 Axes>"
      ]
     },
     "metadata": {
      "needs_background": "light"
     },
     "output_type": "display_data"
    }
   ],
   "source": [
    "# This is just intended to generate some data for which the minima can be easily seen visually.\n",
    "# It's a bit of a toy problem, but I think it's sufficient to illustrate the point. \n",
    "x = np.arange(0, 10000)/1000.0 - 5\n",
    "y = x ** 4 - 20 * x ** 2 +  10 * x + 4 + np.random.rand(len(x)) * 20\n",
    "plt.plot(x, y)"
   ]
  },
  {
   "cell_type": "code",
   "execution_count": 4,
   "metadata": {},
   "outputs": [],
   "source": [
    "# reshape the matrix so it's compatible with keras\n",
    "x = x.reshape(len(x), 1)"
   ]
  },
  {
   "cell_type": "code",
   "execution_count": 8,
   "metadata": {
    "scrolled": true
   },
   "outputs": [
    {
     "name": "stdout",
     "output_type": "stream",
     "text": [
      "Epoch 1/20\n",
      "  5/625 [..............................] - ETA: 8s - loss: 4309.9453  "
     ]
    },
    {
     "name": "stderr",
     "output_type": "stream",
     "text": [
      "2023-02-11 09:16:36.881474: I tensorflow/core/grappler/optimizers/custom_graph_optimizer_registry.cc:112] Plugin optimizer for device_type GPU is enabled.\n"
     ]
    },
    {
     "name": "stdout",
     "output_type": "stream",
     "text": [
      "623/625 [============================>.] - ETA: 0s - loss: 3343.0188"
     ]
    },
    {
     "name": "stderr",
     "output_type": "stream",
     "text": [
      "2023-02-11 09:16:43.554128: I tensorflow/core/grappler/optimizers/custom_graph_optimizer_registry.cc:112] Plugin optimizer for device_type GPU is enabled.\n"
     ]
    },
    {
     "name": "stdout",
     "output_type": "stream",
     "text": [
      "625/625 [==============================] - 9s 15ms/step - loss: 3342.1365 - val_loss: 2489.3530\n",
      "Epoch 2/20\n",
      "625/625 [==============================] - 9s 14ms/step - loss: 2404.2532 - val_loss: 2350.3933\n",
      "Epoch 3/20\n",
      "625/625 [==============================] - 9s 14ms/step - loss: 2273.2334 - val_loss: 2182.6575\n",
      "Epoch 4/20\n",
      "625/625 [==============================] - 9s 14ms/step - loss: 2068.1621 - val_loss: 1961.2555\n",
      "Epoch 5/20\n",
      "625/625 [==============================] - 9s 14ms/step - loss: 1836.7909 - val_loss: 1716.8956\n",
      "Epoch 6/20\n",
      "625/625 [==============================] - 9s 14ms/step - loss: 1590.6882 - val_loss: 1466.8112\n",
      "Epoch 7/20\n",
      "625/625 [==============================] - 9s 14ms/step - loss: 1373.4333 - val_loss: 1270.5956\n",
      "Epoch 8/20\n",
      "625/625 [==============================] - 9s 14ms/step - loss: 1178.6851 - val_loss: 1081.4813\n",
      "Epoch 9/20\n",
      "625/625 [==============================] - 9s 14ms/step - loss: 1003.6282 - val_loss: 918.0468\n",
      "Epoch 10/20\n",
      "625/625 [==============================] - 9s 14ms/step - loss: 839.2147 - val_loss: 749.0103\n",
      "Epoch 11/20\n",
      "625/625 [==============================] - 9s 14ms/step - loss: 698.5612 - val_loss: 655.2479\n",
      "Epoch 12/20\n",
      "625/625 [==============================] - 9s 14ms/step - loss: 596.4692 - val_loss: 541.8336\n",
      "Epoch 13/20\n",
      "625/625 [==============================] - 9s 14ms/step - loss: 520.5091 - val_loss: 485.0899\n",
      "Epoch 14/20\n",
      "625/625 [==============================] - 9s 14ms/step - loss: 455.0324 - val_loss: 418.0969\n",
      "Epoch 15/20\n",
      "625/625 [==============================] - 9s 14ms/step - loss: 396.1543 - val_loss: 365.8369\n",
      "Epoch 16/20\n",
      "625/625 [==============================] - 9s 14ms/step - loss: 344.0139 - val_loss: 304.0732\n",
      "Epoch 17/20\n",
      "625/625 [==============================] - 9s 14ms/step - loss: 298.2881 - val_loss: 314.0478\n",
      "Epoch 18/20\n",
      "625/625 [==============================] - 9s 14ms/step - loss: 257.4408 - val_loss: 239.1508\n",
      "Epoch 19/20\n",
      "625/625 [==============================] - 9s 14ms/step - loss: 226.5258 - val_loss: 231.1461\n",
      "Epoch 20/20\n",
      "625/625 [==============================] - 9s 14ms/step - loss: 200.0316 - val_loss: 179.4073\n"
     ]
    },
    {
     "data": {
      "text/plain": [
       "<keras.callbacks.History at 0x16897ea00>"
      ]
     },
     "execution_count": 8,
     "metadata": {},
     "output_type": "execute_result"
    }
   ],
   "source": [
    "import ipywidgets\n",
    "\n",
    "#this is our basic model that we're going to use to reconstruct the function\n",
    "\n",
    "input_layer = Input(shape=(1,))\n",
    "hidden_layer = Dense(12, activation='elu')(input_layer)\n",
    "hidden_layer = Dense(9, activation='elu')(hidden_layer)\n",
    "hidden_layer = Dense(6, activation='elu')(hidden_layer)\n",
    "hidden_layer = Dense(3, activation='elu')(hidden_layer)\n",
    "decoder = Dense(1, activation='linear')(hidden_layer)\n",
    "\n",
    "model = Model(input_layer, decoder)\n",
    "model.compile(loss='mse', optimizer='rmsprop')\n",
    "model.fit(x, y, batch_size=16, epochs=20, validation_data=(x,y), verbose = 1)"
   ]
  },
  {
   "cell_type": "code",
   "execution_count": 9,
   "metadata": {},
   "outputs": [
    {
     "name": "stdout",
     "output_type": "stream",
     "text": [
      "Epoch 1/20\n",
      "625/625 [==============================] - 9s 14ms/step - loss: 175.9501 - val_loss: 163.1974\n",
      "Epoch 2/20\n",
      "625/625 [==============================] - 9s 14ms/step - loss: 158.6900 - val_loss: 147.0343\n",
      "Epoch 3/20\n",
      "625/625 [==============================] - 9s 14ms/step - loss: 141.4004 - val_loss: 130.5795\n",
      "Epoch 4/20\n",
      "625/625 [==============================] - 9s 14ms/step - loss: 125.9090 - val_loss: 111.0203\n",
      "Epoch 5/20\n",
      "625/625 [==============================] - 9s 14ms/step - loss: 112.1419 - val_loss: 139.4562\n",
      "Epoch 6/20\n",
      "625/625 [==============================] - 9s 14ms/step - loss: 103.3012 - val_loss: 112.5850\n",
      "Epoch 7/20\n",
      "625/625 [==============================] - 9s 14ms/step - loss: 96.0603 - val_loss: 91.3089\n",
      "Epoch 8/20\n",
      "625/625 [==============================] - 9s 14ms/step - loss: 91.8711 - val_loss: 83.4598\n",
      "Epoch 9/20\n",
      "625/625 [==============================] - 9s 14ms/step - loss: 87.7321 - val_loss: 73.9723\n",
      "Epoch 10/20\n",
      "625/625 [==============================] - 9s 14ms/step - loss: 83.9623 - val_loss: 90.3696\n",
      "Epoch 11/20\n",
      "625/625 [==============================] - 9s 14ms/step - loss: 81.3384 - val_loss: 82.7616\n",
      "Epoch 12/20\n",
      "625/625 [==============================] - 9s 14ms/step - loss: 78.0197 - val_loss: 69.6438\n",
      "Epoch 13/20\n",
      "625/625 [==============================] - 9s 14ms/step - loss: 76.5925 - val_loss: 69.3667\n",
      "Epoch 14/20\n",
      "625/625 [==============================] - 9s 15ms/step - loss: 75.0948 - val_loss: 65.4478\n",
      "Epoch 15/20\n",
      "625/625 [==============================] - 10s 15ms/step - loss: 73.4133 - val_loss: 65.2776\n",
      "Epoch 16/20\n",
      "625/625 [==============================] - 10s 15ms/step - loss: 72.2044 - val_loss: 83.0806\n",
      "Epoch 17/20\n",
      "625/625 [==============================] - 9s 14ms/step - loss: 69.7017 - val_loss: 63.1886\n",
      "Epoch 18/20\n",
      "625/625 [==============================] - 9s 15ms/step - loss: 68.3194 - val_loss: 90.5108\n",
      "Epoch 19/20\n",
      "625/625 [==============================] - 10s 16ms/step - loss: 68.5975 - val_loss: 74.1931\n",
      "Epoch 20/20\n",
      "625/625 [==============================] - 9s 14ms/step - loss: 66.7056 - val_loss: 58.8031\n"
     ]
    },
    {
     "data": {
      "text/plain": [
       "<keras.callbacks.History at 0x1775d1cd0>"
      ]
     },
     "execution_count": 9,
     "metadata": {},
     "output_type": "execute_result"
    }
   ],
   "source": [
    "model.fit(x, y, batch_size=16, epochs=20, validation_data=(x,y), verbose = 1)"
   ]
  },
  {
   "cell_type": "code",
   "execution_count": 10,
   "metadata": {},
   "outputs": [
    {
     "name": "stderr",
     "output_type": "stream",
     "text": [
      "2023-02-11 09:22:58.540828: I tensorflow/core/grappler/optimizers/custom_graph_optimizer_registry.cc:112] Plugin optimizer for device_type GPU is enabled.\n"
     ]
    }
   ],
   "source": [
    "# predict the curve again. Yes this is a self prediction, but we'll leave the cross validation as \n",
    "# an exercise for the reader\n",
    "p = model.predict(x)"
   ]
  },
  {
   "cell_type": "code",
   "execution_count": 11,
   "metadata": {},
   "outputs": [
    {
     "data": {
      "text/plain": [
       "[<matplotlib.lines.Line2D at 0x1687e7460>]"
      ]
     },
     "execution_count": 11,
     "metadata": {},
     "output_type": "execute_result"
    },
    {
     "data": {
      "image/png": "[encoded data removed]",
      "text/plain": [
       "<Figure size 432x288 with 1 Axes>"
      ]
     },
     "metadata": {
      "needs_background": "light"
     },
     "output_type": "display_data"
    }
   ],
   "source": [
    "# unsurprisingly it is able to replicate the original function\n",
    "plt.plot(x, y)\n",
    "plt.plot(x, p)"
   ]
  },
  {
   "cell_type": "code",
   "execution_count": 8,
   "metadata": {},
   "outputs": [],
   "source": [
    "# we're going to freeze the model\n",
    "model.trainable = False"
   ]
  },
  {
   "cell_type": "markdown",
   "metadata": {},
   "source": [
    "### Optimization\n",
    "\n",
    "The previous section was a pretty straightforward data generation and training of the neural network. Within the next section we're going to be trying to find the optimal solution.\n",
    "\n",
    "Essentailly, we want to have a \"layer\" whose weights can be optimized, and which serve as an input to the trained model. "
   ]
  },
  {
   "cell_type": "code",
   "execution_count": 66,
   "metadata": {},
   "outputs": [
    {
     "ename": "TypeError",
     "evalue": "shgo() got multiple values for argument 'bounds'",
     "output_type": "error",
     "traceback": [
      "\u001b[0;31m---------------------------------------------------------------------------\u001b[0m",
      "\u001b[0;31mTypeError\u001b[0m                                 Traceback (most recent call last)",
      "\u001b[0;32m/var/folders/b7/hz5qz0l56c1558bmwbgrktt00000gn/T/ipykernel_32993/2641557400.py\u001b[0m in \u001b[0;36m<module>\u001b[0;34m\u001b[0m\n\u001b[1;32m     11\u001b[0m        'fun': lambda x: x[0] - 1})\n\u001b[1;32m     12\u001b[0m \u001b[0;34m\u001b[0m\u001b[0m\n\u001b[0;32m---> 13\u001b[0;31m \u001b[0mresult\u001b[0m \u001b[0;34m=\u001b[0m \u001b[0mshgo\u001b[0m\u001b[0;34m(\u001b[0m\u001b[0mfunc2\u001b[0m\u001b[0;34m,\u001b[0m \u001b[0mx0\u001b[0m\u001b[0;34m,\u001b[0m \u001b[0mconstraints\u001b[0m\u001b[0;34m=\u001b[0m\u001b[0mcons\u001b[0m\u001b[0;34m,\u001b[0m \u001b[0mbounds\u001b[0m\u001b[0;34m=\u001b[0m\u001b[0mbounds\u001b[0m\u001b[0;34m)\u001b[0m\u001b[0;34m\u001b[0m\u001b[0;34m\u001b[0m\u001b[0m\n\u001b[0m",
      "\u001b[0;31mTypeError\u001b[0m: shgo() got multiple values for argument 'bounds'"
     ]
    }
   ],
   "source": [
    "from scipy.optimize import minimize,shgo\n",
    "import numdifftools as nd\n",
    "\n",
    "def func2(x):\n",
    "    return model.predict(x)[0][0]\n",
    "\n",
    "f_jacob = nd.Jacobian(func2)\n",
    "\n",
    "x0 = [0]\n",
    "cons=({'type': 'ineq',\n",
    "       'fun': lambda x: x[0] - 1})\n",
    "\n",
    "result = minimize(func2, x0, constraints=cons, jac=f_jacob, method='COBYLA')\n"
   ]
  },
  {
   "cell_type": "code",
   "execution_count": 63,
   "metadata": {},
   "outputs": [
    {
     "data": {
      "text/plain": [
       "     fun: -56.51991653442383\n",
       "   maxcv: 0.0\n",
       " message: 'Optimization terminated successfully.'\n",
       "    nfev: 22\n",
       "  status: 1\n",
       " success: True\n",
       "       x: array([3.1016625])"
      ]
     },
     "execution_count": 63,
     "metadata": {},
     "output_type": "execute_result"
    }
   ],
   "source": [
    "result"
   ]
  },
  {
   "cell_type": "code",
   "execution_count": 64,
   "metadata": {},
   "outputs": [
    {
     "data": {
      "text/plain": [
       "<matplotlib.lines.Line2D at 0x284c645b0>"
      ]
     },
     "execution_count": 64,
     "metadata": {},
     "output_type": "execute_result"
    },
    {
     "data": {
      "image/png": "[encoded data removed]",
      "text/plain": [
       "<Figure size 432x288 with 1 Axes>"
      ]
     },
     "metadata": {
      "needs_background": "light"
     },
     "output_type": "display_data"
    }
   ],
   "source": [
    "plt.plot(x, y)\n",
    "plt.plot(x, p)\n",
    "\n",
    "plt.axvline(x=result.x[0])\n",
    "plt.axhline(y=result.fun)"
   ]
  },
  {
   "cell_type": "code",
   "execution_count": null,
   "metadata": {},
   "outputs": [],
   "source": []
  }
 ],
 "metadata": {
  "kernelspec": {
   "display_name": "Python 3.8.12 ('nn_optimization')",
   "language": "python",
   "name": "python3"
  },
  "language_info": {
   "codemirror_mode": {
    "name": "ipython",
    "version": 3
   },
   "file_extension": ".py",
   "mimetype": "text/x-python",
   "name": "python",
   "nbconvert_exporter": "python",
   "pygments_lexer": "ipython3",
   "version": "3.8.12"
  },
  "vscode": {
   "interpreter": {
    "hash": "11f05b9a2f0e1b855927a279f9a0214d5f417ad59b9b5c775a82e6f73fb36efa"
   }
  }
 },
 "nbformat": 4,
 "nbformat_minor": 4
}
